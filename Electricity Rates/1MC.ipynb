{
 "cells": [
  {
   "cell_type": "code",
   "execution_count": 3,
   "metadata": {},
   "outputs": [],
   "source": [
    "import pandas as pd\n",
    "import numpy as np"
   ]
  },
  {
   "cell_type": "code",
   "execution_count": 4,
   "metadata": {},
   "outputs": [
    {
     "data": {
      "text/html": [
       "<div>\n",
       "<style scoped>\n",
       "    .dataframe tbody tr th:only-of-type {\n",
       "        vertical-align: middle;\n",
       "    }\n",
       "\n",
       "    .dataframe tbody tr th {\n",
       "        vertical-align: top;\n",
       "    }\n",
       "\n",
       "    .dataframe thead th {\n",
       "        text-align: right;\n",
       "    }\n",
       "</style>\n",
       "<table border=\"1\" class=\"dataframe\">\n",
       "  <thead>\n",
       "    <tr style=\"text-align: right;\">\n",
       "      <th></th>\n",
       "      <th>00:00</th>\n",
       "      <th>00:30</th>\n",
       "      <th>01:00</th>\n",
       "      <th>01:30</th>\n",
       "      <th>02:00</th>\n",
       "      <th>02:30</th>\n",
       "      <th>03:00</th>\n",
       "      <th>03:30</th>\n",
       "      <th>04:00</th>\n",
       "      <th>04:30</th>\n",
       "      <th>...</th>\n",
       "      <th>19:00</th>\n",
       "      <th>19:30</th>\n",
       "      <th>20:00</th>\n",
       "      <th>20:30</th>\n",
       "      <th>21:00</th>\n",
       "      <th>21:30</th>\n",
       "      <th>22:00</th>\n",
       "      <th>22:30</th>\n",
       "      <th>23:00</th>\n",
       "      <th>23:30</th>\n",
       "    </tr>\n",
       "    <tr>\n",
       "      <th>Date</th>\n",
       "      <th></th>\n",
       "      <th></th>\n",
       "      <th></th>\n",
       "      <th></th>\n",
       "      <th></th>\n",
       "      <th></th>\n",
       "      <th></th>\n",
       "      <th></th>\n",
       "      <th></th>\n",
       "      <th></th>\n",
       "      <th></th>\n",
       "      <th></th>\n",
       "      <th></th>\n",
       "      <th></th>\n",
       "      <th></th>\n",
       "      <th></th>\n",
       "      <th></th>\n",
       "      <th></th>\n",
       "      <th></th>\n",
       "      <th></th>\n",
       "      <th></th>\n",
       "    </tr>\n",
       "  </thead>\n",
       "  <tbody>\n",
       "    <tr>\n",
       "      <th>2024-01-01</th>\n",
       "      <td>0.050</td>\n",
       "      <td>0.050</td>\n",
       "      <td>0.049</td>\n",
       "      <td>0.050</td>\n",
       "      <td>0.050</td>\n",
       "      <td>0.050</td>\n",
       "      <td>0.050</td>\n",
       "      <td>0.050</td>\n",
       "      <td>0.050</td>\n",
       "      <td>0.050</td>\n",
       "      <td>...</td>\n",
       "      <td>0.137</td>\n",
       "      <td>0.152</td>\n",
       "      <td>0.394</td>\n",
       "      <td>0.785</td>\n",
       "      <td>0.533</td>\n",
       "      <td>0.314</td>\n",
       "      <td>0.266</td>\n",
       "      <td>0.258</td>\n",
       "      <td>0.249</td>\n",
       "      <td>0.302</td>\n",
       "    </tr>\n",
       "    <tr>\n",
       "      <th>2024-01-02</th>\n",
       "      <td>0.158</td>\n",
       "      <td>0.099</td>\n",
       "      <td>0.098</td>\n",
       "      <td>0.092</td>\n",
       "      <td>0.065</td>\n",
       "      <td>0.087</td>\n",
       "      <td>0.125</td>\n",
       "      <td>0.113</td>\n",
       "      <td>0.126</td>\n",
       "      <td>0.118</td>\n",
       "      <td>...</td>\n",
       "      <td>1.237</td>\n",
       "      <td>0.722</td>\n",
       "      <td>0.383</td>\n",
       "      <td>0.362</td>\n",
       "      <td>0.349</td>\n",
       "      <td>0.366</td>\n",
       "      <td>0.321</td>\n",
       "      <td>0.277</td>\n",
       "      <td>0.325</td>\n",
       "      <td>0.298</td>\n",
       "    </tr>\n",
       "    <tr>\n",
       "      <th>2024-01-03</th>\n",
       "      <td>0.254</td>\n",
       "      <td>0.174</td>\n",
       "      <td>0.094</td>\n",
       "      <td>0.093</td>\n",
       "      <td>0.124</td>\n",
       "      <td>0.105</td>\n",
       "      <td>0.126</td>\n",
       "      <td>0.078</td>\n",
       "      <td>0.083</td>\n",
       "      <td>0.056</td>\n",
       "      <td>...</td>\n",
       "      <td>0.347</td>\n",
       "      <td>0.347</td>\n",
       "      <td>0.254</td>\n",
       "      <td>0.204</td>\n",
       "      <td>0.208</td>\n",
       "      <td>0.356</td>\n",
       "      <td>0.176</td>\n",
       "      <td>0.215</td>\n",
       "      <td>0.249</td>\n",
       "      <td>0.242</td>\n",
       "    </tr>\n",
       "    <tr>\n",
       "      <th>2024-01-04</th>\n",
       "      <td>0.254</td>\n",
       "      <td>0.157</td>\n",
       "      <td>0.073</td>\n",
       "      <td>0.062</td>\n",
       "      <td>0.058</td>\n",
       "      <td>0.062</td>\n",
       "      <td>0.059</td>\n",
       "      <td>0.060</td>\n",
       "      <td>0.056</td>\n",
       "      <td>0.065</td>\n",
       "      <td>...</td>\n",
       "      <td>0.829</td>\n",
       "      <td>0.398</td>\n",
       "      <td>0.436</td>\n",
       "      <td>0.492</td>\n",
       "      <td>0.459</td>\n",
       "      <td>0.469</td>\n",
       "      <td>0.292</td>\n",
       "      <td>0.269</td>\n",
       "      <td>0.188</td>\n",
       "      <td>0.100</td>\n",
       "    </tr>\n",
       "    <tr>\n",
       "      <th>2024-01-05</th>\n",
       "      <td>0.069</td>\n",
       "      <td>0.057</td>\n",
       "      <td>0.061</td>\n",
       "      <td>0.060</td>\n",
       "      <td>0.074</td>\n",
       "      <td>0.107</td>\n",
       "      <td>0.135</td>\n",
       "      <td>0.089</td>\n",
       "      <td>0.056</td>\n",
       "      <td>0.058</td>\n",
       "      <td>...</td>\n",
       "      <td>0.342</td>\n",
       "      <td>0.346</td>\n",
       "      <td>0.367</td>\n",
       "      <td>0.410</td>\n",
       "      <td>0.389</td>\n",
       "      <td>0.264</td>\n",
       "      <td>0.280</td>\n",
       "      <td>0.256</td>\n",
       "      <td>0.249</td>\n",
       "      <td>0.325</td>\n",
       "    </tr>\n",
       "    <tr>\n",
       "      <th>...</th>\n",
       "      <td>...</td>\n",
       "      <td>...</td>\n",
       "      <td>...</td>\n",
       "      <td>...</td>\n",
       "      <td>...</td>\n",
       "      <td>...</td>\n",
       "      <td>...</td>\n",
       "      <td>...</td>\n",
       "      <td>...</td>\n",
       "      <td>...</td>\n",
       "      <td>...</td>\n",
       "      <td>...</td>\n",
       "      <td>...</td>\n",
       "      <td>...</td>\n",
       "      <td>...</td>\n",
       "      <td>...</td>\n",
       "      <td>...</td>\n",
       "      <td>...</td>\n",
       "      <td>...</td>\n",
       "      <td>...</td>\n",
       "      <td>...</td>\n",
       "    </tr>\n",
       "    <tr>\n",
       "      <th>2024-12-27</th>\n",
       "      <td>0.323</td>\n",
       "      <td>0.327</td>\n",
       "      <td>0.341</td>\n",
       "      <td>0.352</td>\n",
       "      <td>1.018</td>\n",
       "      <td>1.037</td>\n",
       "      <td>0.936</td>\n",
       "      <td>0.637</td>\n",
       "      <td>0.345</td>\n",
       "      <td>0.330</td>\n",
       "      <td>...</td>\n",
       "      <td>0.466</td>\n",
       "      <td>0.394</td>\n",
       "      <td>0.442</td>\n",
       "      <td>0.450</td>\n",
       "      <td>0.444</td>\n",
       "      <td>0.415</td>\n",
       "      <td>0.964</td>\n",
       "      <td>1.113</td>\n",
       "      <td>0.915</td>\n",
       "      <td>0.762</td>\n",
       "    </tr>\n",
       "    <tr>\n",
       "      <th>2024-12-28</th>\n",
       "      <td>0.580</td>\n",
       "      <td>0.470</td>\n",
       "      <td>0.455</td>\n",
       "      <td>0.443</td>\n",
       "      <td>1.156</td>\n",
       "      <td>1.135</td>\n",
       "      <td>1.062</td>\n",
       "      <td>0.789</td>\n",
       "      <td>0.445</td>\n",
       "      <td>0.472</td>\n",
       "      <td>...</td>\n",
       "      <td>0.000</td>\n",
       "      <td>0.000</td>\n",
       "      <td>0.000</td>\n",
       "      <td>0.000</td>\n",
       "      <td>0.000</td>\n",
       "      <td>0.000</td>\n",
       "      <td>0.000</td>\n",
       "      <td>0.000</td>\n",
       "      <td>0.000</td>\n",
       "      <td>0.000</td>\n",
       "    </tr>\n",
       "    <tr>\n",
       "      <th>2024-12-29</th>\n",
       "      <td>0.000</td>\n",
       "      <td>0.000</td>\n",
       "      <td>0.000</td>\n",
       "      <td>0.000</td>\n",
       "      <td>0.767</td>\n",
       "      <td>0.733</td>\n",
       "      <td>0.405</td>\n",
       "      <td>0.040</td>\n",
       "      <td>0.039</td>\n",
       "      <td>0.040</td>\n",
       "      <td>...</td>\n",
       "      <td>0.000</td>\n",
       "      <td>0.000</td>\n",
       "      <td>0.000</td>\n",
       "      <td>0.000</td>\n",
       "      <td>0.000</td>\n",
       "      <td>0.000</td>\n",
       "      <td>0.000</td>\n",
       "      <td>0.000</td>\n",
       "      <td>0.000</td>\n",
       "      <td>0.000</td>\n",
       "    </tr>\n",
       "    <tr>\n",
       "      <th>2024-12-30</th>\n",
       "      <td>0.017</td>\n",
       "      <td>0.036</td>\n",
       "      <td>0.036</td>\n",
       "      <td>0.037</td>\n",
       "      <td>0.675</td>\n",
       "      <td>0.731</td>\n",
       "      <td>0.582</td>\n",
       "      <td>0.290</td>\n",
       "      <td>0.083</td>\n",
       "      <td>0.080</td>\n",
       "      <td>...</td>\n",
       "      <td>0.000</td>\n",
       "      <td>0.000</td>\n",
       "      <td>0.000</td>\n",
       "      <td>0.000</td>\n",
       "      <td>0.000</td>\n",
       "      <td>0.000</td>\n",
       "      <td>0.000</td>\n",
       "      <td>0.000</td>\n",
       "      <td>0.000</td>\n",
       "      <td>0.000</td>\n",
       "    </tr>\n",
       "    <tr>\n",
       "      <th>2024-12-31</th>\n",
       "      <td>0.000</td>\n",
       "      <td>0.000</td>\n",
       "      <td>0.000</td>\n",
       "      <td>0.000</td>\n",
       "      <td>0.730</td>\n",
       "      <td>0.642</td>\n",
       "      <td>0.263</td>\n",
       "      <td>0.073</td>\n",
       "      <td>0.081</td>\n",
       "      <td>0.079</td>\n",
       "      <td>...</td>\n",
       "      <td>0.000</td>\n",
       "      <td>0.000</td>\n",
       "      <td>0.000</td>\n",
       "      <td>0.000</td>\n",
       "      <td>0.000</td>\n",
       "      <td>0.000</td>\n",
       "      <td>0.000</td>\n",
       "      <td>0.000</td>\n",
       "      <td>0.022</td>\n",
       "      <td>0.036</td>\n",
       "    </tr>\n",
       "  </tbody>\n",
       "</table>\n",
       "<p>366 rows × 48 columns</p>\n",
       "</div>"
      ],
      "text/plain": [
       "            00:00  00:30  01:00  01:30  02:00  02:30  03:00  03:30  04:00  \\\n",
       "Date                                                                        \n",
       "2024-01-01  0.050  0.050  0.049  0.050  0.050  0.050  0.050  0.050  0.050   \n",
       "2024-01-02  0.158  0.099  0.098  0.092  0.065  0.087  0.125  0.113  0.126   \n",
       "2024-01-03  0.254  0.174  0.094  0.093  0.124  0.105  0.126  0.078  0.083   \n",
       "2024-01-04  0.254  0.157  0.073  0.062  0.058  0.062  0.059  0.060  0.056   \n",
       "2024-01-05  0.069  0.057  0.061  0.060  0.074  0.107  0.135  0.089  0.056   \n",
       "...           ...    ...    ...    ...    ...    ...    ...    ...    ...   \n",
       "2024-12-27  0.323  0.327  0.341  0.352  1.018  1.037  0.936  0.637  0.345   \n",
       "2024-12-28  0.580  0.470  0.455  0.443  1.156  1.135  1.062  0.789  0.445   \n",
       "2024-12-29  0.000  0.000  0.000  0.000  0.767  0.733  0.405  0.040  0.039   \n",
       "2024-12-30  0.017  0.036  0.036  0.037  0.675  0.731  0.582  0.290  0.083   \n",
       "2024-12-31  0.000  0.000  0.000  0.000  0.730  0.642  0.263  0.073  0.081   \n",
       "\n",
       "            04:30  ...  19:00  19:30  20:00  20:30  21:00  21:30  22:00  \\\n",
       "Date               ...                                                    \n",
       "2024-01-01  0.050  ...  0.137  0.152  0.394  0.785  0.533  0.314  0.266   \n",
       "2024-01-02  0.118  ...  1.237  0.722  0.383  0.362  0.349  0.366  0.321   \n",
       "2024-01-03  0.056  ...  0.347  0.347  0.254  0.204  0.208  0.356  0.176   \n",
       "2024-01-04  0.065  ...  0.829  0.398  0.436  0.492  0.459  0.469  0.292   \n",
       "2024-01-05  0.058  ...  0.342  0.346  0.367  0.410  0.389  0.264  0.280   \n",
       "...           ...  ...    ...    ...    ...    ...    ...    ...    ...   \n",
       "2024-12-27  0.330  ...  0.466  0.394  0.442  0.450  0.444  0.415  0.964   \n",
       "2024-12-28  0.472  ...  0.000  0.000  0.000  0.000  0.000  0.000  0.000   \n",
       "2024-12-29  0.040  ...  0.000  0.000  0.000  0.000  0.000  0.000  0.000   \n",
       "2024-12-30  0.080  ...  0.000  0.000  0.000  0.000  0.000  0.000  0.000   \n",
       "2024-12-31  0.079  ...  0.000  0.000  0.000  0.000  0.000  0.000  0.000   \n",
       "\n",
       "            22:30  23:00  23:30  \n",
       "Date                             \n",
       "2024-01-01  0.258  0.249  0.302  \n",
       "2024-01-02  0.277  0.325  0.298  \n",
       "2024-01-03  0.215  0.249  0.242  \n",
       "2024-01-04  0.269  0.188  0.100  \n",
       "2024-01-05  0.256  0.249  0.325  \n",
       "...           ...    ...    ...  \n",
       "2024-12-27  1.113  0.915  0.762  \n",
       "2024-12-28  0.000  0.000  0.000  \n",
       "2024-12-29  0.000  0.000  0.000  \n",
       "2024-12-30  0.000  0.000  0.000  \n",
       "2024-12-31  0.000  0.022  0.036  \n",
       "\n",
       "[366 rows x 48 columns]"
      ]
     },
     "execution_count": 4,
     "metadata": {},
     "output_type": "execute_result"
    }
   ],
   "source": [
    "data = pd.read_csv('1MC2024.csv', header=1, index_col=0)\n",
    "data"
   ]
  },
  {
   "cell_type": "markdown",
   "metadata": {},
   "source": [
    "8am to 11pm is day rate\n",
    "\n",
    "5pm to 7pm is peak rate\n",
    "\n",
    "11pm to 8am is night rate\n",
    "\n",
    "2am to 5am is ev rate\n",
    "\n",
    "*2am to 6am for some rates"
   ]
  },
  {
   "cell_type": "code",
   "execution_count": 5,
   "metadata": {},
   "outputs": [],
   "source": [
    "# group data by rates\n",
    "day = data.iloc[:,16:34].join(data.iloc[:,38:46])\n",
    "peak = data.iloc[:,34:38]\n",
    "night = data.iloc[:,0:4].join(data.iloc[:,10:16]).join(data.iloc[:,46:49])\n",
    "ev = data.iloc[:,4:10]\n",
    "\n",
    "# account for second grouping\n",
    "night2 = data.iloc[:,0:4].join(data.iloc[:,12:16]).join(data.iloc[:,46:49])\n",
    "ev2 = data.iloc[:,4:12]"
   ]
  },
  {
   "cell_type": "code",
   "execution_count": 6,
   "metadata": {},
   "outputs": [],
   "source": [
    "# total values per bracket\n",
    "day_total = day.sum().sum()\n",
    "peak_total = peak.sum().sum()\n",
    "night_total = night.sum().sum()\n",
    "ev_total = ev.sum().sum()\n",
    "\n",
    "night2_total = night2.sum().sum()\n",
    "ev2_total = ev2.sum().sum()\n"
   ]
  },
  {
   "cell_type": "code",
   "execution_count": 7,
   "metadata": {},
   "outputs": [
    {
     "name": "stdout",
     "output_type": "stream",
     "text": [
      "777.481\n",
      "128.5605\n",
      "333.8065\n",
      "347.94050000000004\n"
     ]
    }
   ],
   "source": [
    "print(day_total)\n",
    "print(peak_total)\n",
    "print(night_total)\n",
    "print(ev_total)"
   ]
  },
  {
   "cell_type": "code",
   "execution_count": 8,
   "metadata": {},
   "outputs": [],
   "source": [
    "# rates per band\n",
    "\n",
    "rates = {\n",
    "    \"SSE EV\": {\n",
    "        \"day\": 0.3335,\n",
    "        \"peak\": 0.4483,\n",
    "        \"night\": 0.1889,\n",
    "        \"ev\": 0.0729\n",
    "    },\n",
    "    \"SSE 24\": {\n",
    "        \"day\": 0.2665,\n",
    "        \"peak\": 0.2665,\n",
    "        \"night\": 0.2665,\n",
    "        \"ev\": 0.2665\n",
    "    },\n",
    "    \"En S EV\": {\n",
    "        \"day\": 0.3461,\n",
    "        \"peak\": 0.3784,\n",
    "        \"night\": 0.1854,\n",
    "        \"ev\": 0.0831\n",
    "    },\n",
    "    \"En S Data\": {\n",
    "        \"day\": 0.2521,\n",
    "        \"peak\": 0.2642,\n",
    "        \"night\": 0.1349,\n",
    "        \"ev\": 0.1349\n",
    "    },\n",
    "    \"En S Drive\": {\n",
    "        \"day\": 0.3386,\n",
    "        \"peak\": 0.3386,\n",
    "        \"night\": 0.3386,\n",
    "        \"ev\": 0.0754\n",
    "    },\n",
    "    \"BG S EV DFD\": {\n",
    "        \"day\": 0.2922,\n",
    "        \"peak\": 0.4075,\n",
    "        \"night\": 0.2204,\n",
    "        \"ev\": 0.0745\n",
    "    },\n",
    "    \"En S Data DF\": {\n",
    "        \"day\": 0.2671,\n",
    "        \"peak\": 0.2800,\n",
    "        \"night\": 0.1430,\n",
    "        \"ev\": 0.14300\n",
    "    },\n",
    "    \"FG DF S\": {\n",
    "        \"day\": 0.2665,\n",
    "        \"peak\": 0.3152,\n",
    "        \"night\": 0.2077,\n",
    "        \"ev\": 0.2077\n",
    "    }\n",
    "}"
   ]
  },
  {
   "cell_type": "code",
   "execution_count": 9,
   "metadata": {},
   "outputs": [
    {
     "data": {
      "text/plain": [
       "405.34449595"
      ]
     },
     "execution_count": 9,
     "metadata": {},
     "output_type": "execute_result"
    }
   ],
   "source": [
    "SSE_EV_total = rates['SSE EV']['day'] * day_total + rates['SSE EV']['peak'] * peak_total + rates['SSE EV']['night'] * night_total + rates['SSE EV']['ev'] * ev_total\n",
    "\n",
    "SSE_EV_total"
   ]
  },
  {
   "cell_type": "code",
   "execution_count": 10,
   "metadata": {},
   "outputs": [
    {
     "data": {
      "text/plain": [
       "423.14563525"
      ]
     },
     "execution_count": 10,
     "metadata": {},
     "output_type": "execute_result"
    }
   ],
   "source": [
    "SSE_24_total = rates['SSE 24']['day'] * day_total + rates['SSE 24']['peak'] * peak_total + rates['SSE 24']['night'] * night_total + rates['SSE 24']['ev'] * ev_total\n",
    "\n",
    "SSE_24_total"
   ]
  },
  {
   "cell_type": "code",
   "execution_count": 11,
   "metadata": {},
   "outputs": [
    {
     "data": {
      "text/plain": [
       "404.2082183"
      ]
     },
     "execution_count": 11,
     "metadata": {},
     "output_type": "execute_result"
    }
   ],
   "source": [
    "EN_S_EV_total = rates['En S EV']['day'] * day_total + rates['En S EV']['peak'] * peak_total + rates['En S EV']['night'] * night2_total + rates['En S EV']['ev'] * ev2_total\n",
    "\n",
    "EN_S_EV_total"
   ]
  },
  {
   "cell_type": "code",
   "execution_count": 12,
   "metadata": {},
   "outputs": [
    {
     "data": {
      "text/plain": [
       "321.93631450000004"
      ]
     },
     "execution_count": 12,
     "metadata": {},
     "output_type": "execute_result"
    }
   ],
   "source": [
    "EN_S_DATA_total = rates['En S Data']['day'] * day_total + rates['En S Data']['peak'] * peak_total + rates['En S Data']['night'] * night2_total + rates['En S Data']['ev'] * ev2_total\n",
    "\n",
    "EN_S_DATA_total"
   ]
  },
  {
   "cell_type": "code",
   "execution_count": 13,
   "metadata": {},
   "outputs": [
    {
     "data": {
      "text/plain": [
       "434.91507090000005"
      ]
     },
     "execution_count": 13,
     "metadata": {},
     "output_type": "execute_result"
    }
   ],
   "source": [
    "EN_S_Drive_total = rates['En S Drive']['day'] * day_total + rates['En S Drive']['peak'] * peak_total + rates['En S Drive']['night'] * night2_total + rates['En S Drive']['ev'] * ev2_total\n",
    "\n",
    "EN_S_Drive_total"
   ]
  },
  {
   "cell_type": "code",
   "execution_count": 14,
   "metadata": {},
   "outputs": [
    {
     "data": {
      "text/plain": [
       "372.88995835000003"
      ]
     },
     "execution_count": 14,
     "metadata": {},
     "output_type": "execute_result"
    }
   ],
   "source": [
    "BG_S_EV_DFD_total = rates['BG S EV DFD']['day'] * day_total + rates['BG S EV DFD']['peak'] * peak_total + rates['BG S EV DFD']['night'] * night2_total + rates['BG S EV DFD']['ev'] * ev2_total\n",
    "\n",
    "BG_S_EV_DFD_total"
   ]
  },
  {
   "cell_type": "code",
   "execution_count": 15,
   "metadata": {},
   "outputs": [
    {
     "data": {
      "text/plain": [
       "341.1519361"
      ]
     },
     "execution_count": 15,
     "metadata": {},
     "output_type": "execute_result"
    }
   ],
   "source": [
    "EN_S_DATA_DF_total = rates['En S Data DF']['day'] * day_total + rates['En S Data DF']['peak'] * peak_total + rates['En S Data DF']['night'] * night2_total + rates['En S Data DF']['ev'] * ev2_total\n",
    "\n",
    "EN_S_DATA_DF_total"
   ]
  },
  {
   "cell_type": "code",
   "execution_count": 16,
   "metadata": {},
   "outputs": [
    {
     "data": {
      "text/plain": [
       "389.319808"
      ]
     },
     "execution_count": 16,
     "metadata": {},
     "output_type": "execute_result"
    }
   ],
   "source": [
    "FG_DF_S_total = rates['FG DF S']['day'] * day_total + rates['FG DF S']['peak'] * peak_total + rates['FG DF S']['night'] * night2_total + rates['FG DF S']['ev'] * ev2_total\n",
    "\n",
    "FG_DF_S_total"
   ]
  },
  {
   "cell_type": "code",
   "execution_count": 29,
   "metadata": {},
   "outputs": [
    {
     "data": {
      "text/html": [
       "<div>\n",
       "<style scoped>\n",
       "    .dataframe tbody tr th:only-of-type {\n",
       "        vertical-align: middle;\n",
       "    }\n",
       "\n",
       "    .dataframe tbody tr th {\n",
       "        vertical-align: top;\n",
       "    }\n",
       "\n",
       "    .dataframe thead th {\n",
       "        text-align: right;\n",
       "    }\n",
       "</style>\n",
       "<table border=\"1\" class=\"dataframe\">\n",
       "  <thead>\n",
       "    <tr style=\"text-align: right;\">\n",
       "      <th></th>\n",
       "      <th>Cost</th>\n",
       "    </tr>\n",
       "  </thead>\n",
       "  <tbody>\n",
       "    <tr>\n",
       "      <th>SSE EV</th>\n",
       "      <td>405.34</td>\n",
       "    </tr>\n",
       "    <tr>\n",
       "      <th>SSE 24</th>\n",
       "      <td>423.15</td>\n",
       "    </tr>\n",
       "    <tr>\n",
       "      <th>En S Data</th>\n",
       "      <td>321.94</td>\n",
       "    </tr>\n",
       "    <tr>\n",
       "      <th>En S Drive</th>\n",
       "      <td>434.92</td>\n",
       "    </tr>\n",
       "    <tr>\n",
       "      <th>BG S EV DFD</th>\n",
       "      <td>372.89</td>\n",
       "    </tr>\n",
       "    <tr>\n",
       "      <th>En S Data DF</th>\n",
       "      <td>341.15</td>\n",
       "    </tr>\n",
       "    <tr>\n",
       "      <th>FG DF S</th>\n",
       "      <td>389.32</td>\n",
       "    </tr>\n",
       "  </tbody>\n",
       "</table>\n",
       "</div>"
      ],
      "text/plain": [
       "                Cost\n",
       "SSE EV        405.34\n",
       "SSE 24        423.15\n",
       "En S Data     321.94\n",
       "En S Drive    434.92\n",
       "BG S EV DFD   372.89\n",
       "En S Data DF  341.15\n",
       "FG DF S       389.32"
      ]
     },
     "execution_count": 29,
     "metadata": {},
     "output_type": "execute_result"
    }
   ],
   "source": [
    "d = {'SSE EV':[f\"{SSE_EV_total:.2f}\"],\n",
    "     'SSE 24':[f\"{SSE_24_total:.2f}\"],\n",
    "     'En S Data':[f\"{EN_S_DATA_total:.2f}\"],\n",
    "     'En S Drive':[f\"{EN_S_Drive_total:.2f}\"],\n",
    "     'BG S EV DFD':[f\"{BG_S_EV_DFD_total:.2f}\"],\n",
    "     'En S Data DF':[f\"{EN_S_DATA_DF_total:.2f}\"],\n",
    "     'FG DF S':[f\"{FG_DF_S_total:.2f}\"]   \n",
    "}\n",
    "\n",
    "df = pd.DataFrame(data=d).T.rename(columns={0:'Cost'})\n",
    "\n",
    "df"
   ]
  }
 ],
 "metadata": {
  "kernelspec": {
   "display_name": "base",
   "language": "python",
   "name": "python3"
  },
  "language_info": {
   "codemirror_mode": {
    "name": "ipython",
    "version": 3
   },
   "file_extension": ".py",
   "mimetype": "text/x-python",
   "name": "python",
   "nbconvert_exporter": "python",
   "pygments_lexer": "ipython3",
   "version": "3.11.11"
  }
 },
 "nbformat": 4,
 "nbformat_minor": 2
}
