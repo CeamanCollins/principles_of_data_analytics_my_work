{
 "cells": [
  {
   "cell_type": "code",
   "execution_count": 1,
   "metadata": {},
   "outputs": [],
   "source": [
    "import pandas as pd\n",
    "import numpy as np"
   ]
  },
  {
   "cell_type": "code",
   "execution_count": 2,
   "metadata": {},
   "outputs": [
    {
     "data": {
      "text/html": [
       "<div>\n",
       "<style scoped>\n",
       "    .dataframe tbody tr th:only-of-type {\n",
       "        vertical-align: middle;\n",
       "    }\n",
       "\n",
       "    .dataframe tbody tr th {\n",
       "        vertical-align: top;\n",
       "    }\n",
       "\n",
       "    .dataframe thead th {\n",
       "        text-align: right;\n",
       "    }\n",
       "</style>\n",
       "<table border=\"1\" class=\"dataframe\">\n",
       "  <thead>\n",
       "    <tr style=\"text-align: right;\">\n",
       "      <th></th>\n",
       "      <th>00:00</th>\n",
       "      <th>00:30</th>\n",
       "      <th>01:00</th>\n",
       "      <th>01:30</th>\n",
       "      <th>02:00</th>\n",
       "      <th>02:30</th>\n",
       "      <th>03:00</th>\n",
       "      <th>03:30</th>\n",
       "      <th>04:00</th>\n",
       "      <th>04:30</th>\n",
       "      <th>...</th>\n",
       "      <th>19:00</th>\n",
       "      <th>19:30</th>\n",
       "      <th>20:00</th>\n",
       "      <th>20:30</th>\n",
       "      <th>21:00</th>\n",
       "      <th>21:30</th>\n",
       "      <th>22:00</th>\n",
       "      <th>22:30</th>\n",
       "      <th>23:00</th>\n",
       "      <th>23:30</th>\n",
       "    </tr>\n",
       "    <tr>\n",
       "      <th>Date</th>\n",
       "      <th></th>\n",
       "      <th></th>\n",
       "      <th></th>\n",
       "      <th></th>\n",
       "      <th></th>\n",
       "      <th></th>\n",
       "      <th></th>\n",
       "      <th></th>\n",
       "      <th></th>\n",
       "      <th></th>\n",
       "      <th></th>\n",
       "      <th></th>\n",
       "      <th></th>\n",
       "      <th></th>\n",
       "      <th></th>\n",
       "      <th></th>\n",
       "      <th></th>\n",
       "      <th></th>\n",
       "      <th></th>\n",
       "      <th></th>\n",
       "      <th></th>\n",
       "    </tr>\n",
       "  </thead>\n",
       "  <tbody>\n",
       "    <tr>\n",
       "      <th>2024-01-24</th>\n",
       "      <td>0.1160</td>\n",
       "      <td>0.0725</td>\n",
       "      <td>0.0730</td>\n",
       "      <td>0.0940</td>\n",
       "      <td>0.0950</td>\n",
       "      <td>0.0500</td>\n",
       "      <td>0.0580</td>\n",
       "      <td>0.0610</td>\n",
       "      <td>0.0905</td>\n",
       "      <td>0.0755</td>\n",
       "      <td>...</td>\n",
       "      <td>0.1585</td>\n",
       "      <td>0.1610</td>\n",
       "      <td>0.3065</td>\n",
       "      <td>0.1450</td>\n",
       "      <td>0.1525</td>\n",
       "      <td>0.1840</td>\n",
       "      <td>0.1975</td>\n",
       "      <td>0.1545</td>\n",
       "      <td>0.0960</td>\n",
       "      <td>0.0865</td>\n",
       "    </tr>\n",
       "    <tr>\n",
       "      <th>2024-01-25</th>\n",
       "      <td>0.1110</td>\n",
       "      <td>0.1150</td>\n",
       "      <td>0.0855</td>\n",
       "      <td>0.0630</td>\n",
       "      <td>0.0525</td>\n",
       "      <td>0.0440</td>\n",
       "      <td>0.0810</td>\n",
       "      <td>0.0675</td>\n",
       "      <td>0.0620</td>\n",
       "      <td>0.0620</td>\n",
       "      <td>...</td>\n",
       "      <td>0.0030</td>\n",
       "      <td>0.0030</td>\n",
       "      <td>0.0565</td>\n",
       "      <td>0.1370</td>\n",
       "      <td>0.0995</td>\n",
       "      <td>0.2190</td>\n",
       "      <td>0.1350</td>\n",
       "      <td>0.1435</td>\n",
       "      <td>0.1390</td>\n",
       "      <td>0.0975</td>\n",
       "    </tr>\n",
       "    <tr>\n",
       "      <th>2024-01-26</th>\n",
       "      <td>0.0605</td>\n",
       "      <td>0.0845</td>\n",
       "      <td>0.0950</td>\n",
       "      <td>0.0925</td>\n",
       "      <td>0.6900</td>\n",
       "      <td>0.7425</td>\n",
       "      <td>0.6500</td>\n",
       "      <td>0.3515</td>\n",
       "      <td>0.3775</td>\n",
       "      <td>0.2095</td>\n",
       "      <td>...</td>\n",
       "      <td>0.1640</td>\n",
       "      <td>0.0930</td>\n",
       "      <td>0.0945</td>\n",
       "      <td>0.1465</td>\n",
       "      <td>0.1265</td>\n",
       "      <td>0.1010</td>\n",
       "      <td>0.2290</td>\n",
       "      <td>0.1215</td>\n",
       "      <td>0.1675</td>\n",
       "      <td>0.0540</td>\n",
       "    </tr>\n",
       "    <tr>\n",
       "      <th>2024-01-27</th>\n",
       "      <td>0.0465</td>\n",
       "      <td>0.0455</td>\n",
       "      <td>0.0705</td>\n",
       "      <td>0.0800</td>\n",
       "      <td>0.6770</td>\n",
       "      <td>0.7330</td>\n",
       "      <td>0.6480</td>\n",
       "      <td>0.3710</td>\n",
       "      <td>0.1545</td>\n",
       "      <td>0.0495</td>\n",
       "      <td>...</td>\n",
       "      <td>0.0030</td>\n",
       "      <td>0.0030</td>\n",
       "      <td>0.0030</td>\n",
       "      <td>0.0030</td>\n",
       "      <td>0.0030</td>\n",
       "      <td>0.0030</td>\n",
       "      <td>0.0040</td>\n",
       "      <td>0.0040</td>\n",
       "      <td>0.0035</td>\n",
       "      <td>0.0145</td>\n",
       "    </tr>\n",
       "    <tr>\n",
       "      <th>2024-01-28</th>\n",
       "      <td>0.0815</td>\n",
       "      <td>0.0730</td>\n",
       "      <td>0.0735</td>\n",
       "      <td>0.1050</td>\n",
       "      <td>0.7470</td>\n",
       "      <td>0.7410</td>\n",
       "      <td>0.6205</td>\n",
       "      <td>0.3410</td>\n",
       "      <td>0.2340</td>\n",
       "      <td>0.1065</td>\n",
       "      <td>...</td>\n",
       "      <td>0.0000</td>\n",
       "      <td>0.0000</td>\n",
       "      <td>0.0000</td>\n",
       "      <td>0.1230</td>\n",
       "      <td>0.2090</td>\n",
       "      <td>0.2565</td>\n",
       "      <td>0.1130</td>\n",
       "      <td>0.1430</td>\n",
       "      <td>0.1290</td>\n",
       "      <td>0.1080</td>\n",
       "    </tr>\n",
       "    <tr>\n",
       "      <th>...</th>\n",
       "      <td>...</td>\n",
       "      <td>...</td>\n",
       "      <td>...</td>\n",
       "      <td>...</td>\n",
       "      <td>...</td>\n",
       "      <td>...</td>\n",
       "      <td>...</td>\n",
       "      <td>...</td>\n",
       "      <td>...</td>\n",
       "      <td>...</td>\n",
       "      <td>...</td>\n",
       "      <td>...</td>\n",
       "      <td>...</td>\n",
       "      <td>...</td>\n",
       "      <td>...</td>\n",
       "      <td>...</td>\n",
       "      <td>...</td>\n",
       "      <td>...</td>\n",
       "      <td>...</td>\n",
       "      <td>...</td>\n",
       "      <td>...</td>\n",
       "    </tr>\n",
       "    <tr>\n",
       "      <th>2025-01-20</th>\n",
       "      <td>0.0835</td>\n",
       "      <td>0.0745</td>\n",
       "      <td>0.0490</td>\n",
       "      <td>0.0745</td>\n",
       "      <td>0.6900</td>\n",
       "      <td>0.7275</td>\n",
       "      <td>0.6490</td>\n",
       "      <td>0.3505</td>\n",
       "      <td>0.1600</td>\n",
       "      <td>0.0600</td>\n",
       "      <td>...</td>\n",
       "      <td>0.1115</td>\n",
       "      <td>0.1255</td>\n",
       "      <td>0.1090</td>\n",
       "      <td>0.0885</td>\n",
       "      <td>0.1180</td>\n",
       "      <td>0.0890</td>\n",
       "      <td>0.0715</td>\n",
       "      <td>0.0945</td>\n",
       "      <td>0.0680</td>\n",
       "      <td>0.0705</td>\n",
       "    </tr>\n",
       "    <tr>\n",
       "      <th>2025-01-21</th>\n",
       "      <td>0.2180</td>\n",
       "      <td>0.0690</td>\n",
       "      <td>0.0495</td>\n",
       "      <td>0.0960</td>\n",
       "      <td>0.6750</td>\n",
       "      <td>0.7280</td>\n",
       "      <td>0.7050</td>\n",
       "      <td>0.3305</td>\n",
       "      <td>0.1890</td>\n",
       "      <td>0.0925</td>\n",
       "      <td>...</td>\n",
       "      <td>0.0040</td>\n",
       "      <td>0.1215</td>\n",
       "      <td>0.0040</td>\n",
       "      <td>0.0035</td>\n",
       "      <td>0.0035</td>\n",
       "      <td>0.0650</td>\n",
       "      <td>0.0040</td>\n",
       "      <td>0.0370</td>\n",
       "      <td>0.0905</td>\n",
       "      <td>0.1085</td>\n",
       "    </tr>\n",
       "    <tr>\n",
       "      <th>2025-01-22</th>\n",
       "      <td>0.0715</td>\n",
       "      <td>0.0570</td>\n",
       "      <td>0.0730</td>\n",
       "      <td>0.0870</td>\n",
       "      <td>0.6720</td>\n",
       "      <td>0.7330</td>\n",
       "      <td>0.6580</td>\n",
       "      <td>0.3335</td>\n",
       "      <td>0.1720</td>\n",
       "      <td>0.0845</td>\n",
       "      <td>...</td>\n",
       "      <td>0.0035</td>\n",
       "      <td>0.0380</td>\n",
       "      <td>0.0615</td>\n",
       "      <td>0.0920</td>\n",
       "      <td>0.0580</td>\n",
       "      <td>0.0460</td>\n",
       "      <td>0.0815</td>\n",
       "      <td>0.2320</td>\n",
       "      <td>0.1080</td>\n",
       "      <td>0.1080</td>\n",
       "    </tr>\n",
       "    <tr>\n",
       "      <th>2025-01-23</th>\n",
       "      <td>0.0750</td>\n",
       "      <td>0.0640</td>\n",
       "      <td>0.0915</td>\n",
       "      <td>0.0735</td>\n",
       "      <td>0.6790</td>\n",
       "      <td>0.7525</td>\n",
       "      <td>0.6660</td>\n",
       "      <td>0.3340</td>\n",
       "      <td>0.1770</td>\n",
       "      <td>0.0810</td>\n",
       "      <td>...</td>\n",
       "      <td>0.1330</td>\n",
       "      <td>0.1530</td>\n",
       "      <td>0.0040</td>\n",
       "      <td>0.0040</td>\n",
       "      <td>0.0035</td>\n",
       "      <td>0.0035</td>\n",
       "      <td>0.0040</td>\n",
       "      <td>0.0040</td>\n",
       "      <td>0.1185</td>\n",
       "      <td>0.1485</td>\n",
       "    </tr>\n",
       "    <tr>\n",
       "      <th>2025-01-24</th>\n",
       "      <td>0.0795</td>\n",
       "      <td>0.0605</td>\n",
       "      <td>0.0745</td>\n",
       "      <td>0.0935</td>\n",
       "      <td>0.6830</td>\n",
       "      <td>0.7355</td>\n",
       "      <td>0.6565</td>\n",
       "      <td>0.3495</td>\n",
       "      <td>0.1485</td>\n",
       "      <td>0.0735</td>\n",
       "      <td>...</td>\n",
       "      <td>0.0035</td>\n",
       "      <td>0.0030</td>\n",
       "      <td>0.0030</td>\n",
       "      <td>0.0030</td>\n",
       "      <td>0.0035</td>\n",
       "      <td>0.0035</td>\n",
       "      <td>0.0035</td>\n",
       "      <td>0.0675</td>\n",
       "      <td>0.0890</td>\n",
       "      <td>0.1590</td>\n",
       "    </tr>\n",
       "  </tbody>\n",
       "</table>\n",
       "<p>367 rows × 48 columns</p>\n",
       "</div>"
      ],
      "text/plain": [
       "             00:00   00:30   01:00   01:30   02:00   02:30   03:00   03:30  \\\n",
       "Date                                                                         \n",
       "2024-01-24  0.1160  0.0725  0.0730  0.0940  0.0950  0.0500  0.0580  0.0610   \n",
       "2024-01-25  0.1110  0.1150  0.0855  0.0630  0.0525  0.0440  0.0810  0.0675   \n",
       "2024-01-26  0.0605  0.0845  0.0950  0.0925  0.6900  0.7425  0.6500  0.3515   \n",
       "2024-01-27  0.0465  0.0455  0.0705  0.0800  0.6770  0.7330  0.6480  0.3710   \n",
       "2024-01-28  0.0815  0.0730  0.0735  0.1050  0.7470  0.7410  0.6205  0.3410   \n",
       "...            ...     ...     ...     ...     ...     ...     ...     ...   \n",
       "2025-01-20  0.0835  0.0745  0.0490  0.0745  0.6900  0.7275  0.6490  0.3505   \n",
       "2025-01-21  0.2180  0.0690  0.0495  0.0960  0.6750  0.7280  0.7050  0.3305   \n",
       "2025-01-22  0.0715  0.0570  0.0730  0.0870  0.6720  0.7330  0.6580  0.3335   \n",
       "2025-01-23  0.0750  0.0640  0.0915  0.0735  0.6790  0.7525  0.6660  0.3340   \n",
       "2025-01-24  0.0795  0.0605  0.0745  0.0935  0.6830  0.7355  0.6565  0.3495   \n",
       "\n",
       "             04:00   04:30  ...   19:00   19:30   20:00   20:30   21:00  \\\n",
       "Date                        ...                                           \n",
       "2024-01-24  0.0905  0.0755  ...  0.1585  0.1610  0.3065  0.1450  0.1525   \n",
       "2024-01-25  0.0620  0.0620  ...  0.0030  0.0030  0.0565  0.1370  0.0995   \n",
       "2024-01-26  0.3775  0.2095  ...  0.1640  0.0930  0.0945  0.1465  0.1265   \n",
       "2024-01-27  0.1545  0.0495  ...  0.0030  0.0030  0.0030  0.0030  0.0030   \n",
       "2024-01-28  0.2340  0.1065  ...  0.0000  0.0000  0.0000  0.1230  0.2090   \n",
       "...            ...     ...  ...     ...     ...     ...     ...     ...   \n",
       "2025-01-20  0.1600  0.0600  ...  0.1115  0.1255  0.1090  0.0885  0.1180   \n",
       "2025-01-21  0.1890  0.0925  ...  0.0040  0.1215  0.0040  0.0035  0.0035   \n",
       "2025-01-22  0.1720  0.0845  ...  0.0035  0.0380  0.0615  0.0920  0.0580   \n",
       "2025-01-23  0.1770  0.0810  ...  0.1330  0.1530  0.0040  0.0040  0.0035   \n",
       "2025-01-24  0.1485  0.0735  ...  0.0035  0.0030  0.0030  0.0030  0.0035   \n",
       "\n",
       "             21:30   22:00   22:30   23:00   23:30  \n",
       "Date                                                \n",
       "2024-01-24  0.1840  0.1975  0.1545  0.0960  0.0865  \n",
       "2024-01-25  0.2190  0.1350  0.1435  0.1390  0.0975  \n",
       "2024-01-26  0.1010  0.2290  0.1215  0.1675  0.0540  \n",
       "2024-01-27  0.0030  0.0040  0.0040  0.0035  0.0145  \n",
       "2024-01-28  0.2565  0.1130  0.1430  0.1290  0.1080  \n",
       "...            ...     ...     ...     ...     ...  \n",
       "2025-01-20  0.0890  0.0715  0.0945  0.0680  0.0705  \n",
       "2025-01-21  0.0650  0.0040  0.0370  0.0905  0.1085  \n",
       "2025-01-22  0.0460  0.0815  0.2320  0.1080  0.1080  \n",
       "2025-01-23  0.0035  0.0040  0.0040  0.1185  0.1485  \n",
       "2025-01-24  0.0035  0.0035  0.0675  0.0890  0.1590  \n",
       "\n",
       "[367 rows x 48 columns]"
      ]
     },
     "execution_count": 2,
     "metadata": {},
     "output_type": "execute_result"
    }
   ],
   "source": [
    "data = pd.read_csv('electricity.csv', header=1, index_col=0)\n",
    "data"
   ]
  },
  {
   "cell_type": "markdown",
   "metadata": {},
   "source": [
    "8am to 11pm is day rate\n",
    "\n",
    "5pm to 7pm is peak rate\n",
    "\n",
    "11pm to 8am is night rate\n",
    "\n",
    "2am to 5am is ev rate\n",
    "\n",
    "*2am to 6am for some rates"
   ]
  },
  {
   "cell_type": "code",
   "execution_count": 3,
   "metadata": {},
   "outputs": [],
   "source": [
    "# group data by rates\n",
    "day = data.iloc[:,16:34].join(data.iloc[:,38:46])\n",
    "peak = data.iloc[:,34:38]\n",
    "night = data.iloc[:,0:4].join(data.iloc[:,10:16]).join(data.iloc[:,46:49])\n",
    "ev = data.iloc[:,4:10]\n",
    "\n",
    "# account for second grouping\n",
    "night2 = data.iloc[:,0:4].join(data.iloc[:,12:16]).join(data.iloc[:,46:49])\n",
    "ev2 = data.iloc[:,4:12]"
   ]
  },
  {
   "cell_type": "code",
   "execution_count": 4,
   "metadata": {},
   "outputs": [],
   "source": [
    "# total values per bracket\n",
    "day_total = day.sum().sum()\n",
    "peak_total = peak.sum().sum()\n",
    "night_total = night.sum().sum()\n",
    "ev_total = ev.sum().sum()\n",
    "\n",
    "night2_total = night2.sum().sum()\n",
    "ev2_total = ev2.sum().sum()\n"
   ]
  },
  {
   "cell_type": "code",
   "execution_count": 5,
   "metadata": {},
   "outputs": [
    {
     "name": "stdout",
     "output_type": "stream",
     "text": [
      "289.832\n",
      "50.384499999999996\n",
      "188.44400000000002\n",
      "462.8085\n"
     ]
    }
   ],
   "source": [
    "print(day_total)\n",
    "print(peak_total)\n",
    "print(night_total)\n",
    "print(ev_total)"
   ]
  },
  {
   "cell_type": "code",
   "execution_count": 6,
   "metadata": {},
   "outputs": [],
   "source": [
    "# rates per band\n",
    "\n",
    "rates = {\n",
    "    \"SSE EV\": {\n",
    "        \"day\": 0.3335,\n",
    "        \"peak\": 0.4483,\n",
    "        \"night\": 0.1889,\n",
    "        \"ev\": 0.0729\n",
    "    },\n",
    "    \"SSE 24\": {\n",
    "        \"day\": 0.2665,\n",
    "        \"peak\": 0.2665,\n",
    "        \"night\": 0.2665,\n",
    "        \"ev\": 0.2665\n",
    "    },\n",
    "    \"En S EV\": {\n",
    "        \"day\": 0.3461,\n",
    "        \"peak\": 0.3784,\n",
    "        \"night\": 0.1854,\n",
    "        \"ev\": 0.0831\n",
    "    },\n",
    "    \"En S Data\": {\n",
    "        \"day\": 0.2521,\n",
    "        \"peak\": 0.2642,\n",
    "        \"night\": 0.1349,\n",
    "        \"ev\": 0.1349\n",
    "    },\n",
    "    \"En S Drive\": {\n",
    "        \"day\": 0.3386,\n",
    "        \"peak\": 0.3386,\n",
    "        \"night\": 0.3386,\n",
    "        \"ev\": 0.0754\n",
    "    },\n",
    "    \"BG S EV DFD\": {\n",
    "        \"day\": 0.2922,\n",
    "        \"peak\": 0.4075,\n",
    "        \"night\": 0.2204,\n",
    "        \"ev\": 0.0745\n",
    "    },\n",
    "    \"En S Data DF\": {\n",
    "        \"day\": 0.2671,\n",
    "        \"peak\": 0.2800,\n",
    "        \"night\": 0.1430,\n",
    "        \"ev\": 0.14300\n",
    "    },\n",
    "    \"FG DF S\": {\n",
    "        \"day\": 0.2665,\n",
    "        \"peak\": 0.3152,\n",
    "        \"night\": 0.2077,\n",
    "        \"ev\": 0.2077\n",
    "    },\n",
    "    \"2024\": {\n",
    "        \"day\": 0.3655,\n",
    "        \"peak\": 0.3655,\n",
    "        \"night\": 0.3655,\n",
    "        \"ev\": 0.0814 \n",
    "    }\n",
    "}"
   ]
  },
  {
   "cell_type": "code",
   "execution_count": 7,
   "metadata": {},
   "outputs": [
    {
     "data": {
      "text/plain": [
       "188.58215460000002"
      ]
     },
     "execution_count": 7,
     "metadata": {},
     "output_type": "execute_result"
    }
   ],
   "source": [
    "SSE_EV_total = rates['SSE EV']['day'] * day_total + rates['SSE EV']['peak'] * peak_total + rates['SSE EV']['night'] * night_total + rates['SSE EV']['ev'] * ev_total\n",
    "\n",
    "SSE_EV_total"
   ]
  },
  {
   "cell_type": "code",
   "execution_count": 8,
   "metadata": {},
   "outputs": [
    {
     "data": {
      "text/plain": [
       "264.2264885"
      ]
     },
     "execution_count": 8,
     "metadata": {},
     "output_type": "execute_result"
    }
   ],
   "source": [
    "SSE_24_total = rates['SSE 24']['day'] * day_total + rates['SSE 24']['peak'] * peak_total + rates['SSE 24']['night'] * night_total + rates['SSE 24']['ev'] * ev_total\n",
    "\n",
    "SSE_24_total"
   ]
  },
  {
   "cell_type": "code",
   "execution_count": 9,
   "metadata": {},
   "outputs": [
    {
     "data": {
      "text/plain": [
       "188.1891398"
      ]
     },
     "execution_count": 9,
     "metadata": {},
     "output_type": "execute_result"
    }
   ],
   "source": [
    "EN_S_EV_total = rates['En S EV']['day'] * day_total + rates['En S EV']['peak'] * peak_total + rates['En S EV']['night'] * night2_total + rates['En S EV']['ev'] * ev2_total\n",
    "\n",
    "EN_S_EV_total"
   ]
  },
  {
   "cell_type": "code",
   "execution_count": 10,
   "metadata": {},
   "outputs": [
    {
     "data": {
      "text/plain": [
       "174.23219435"
      ]
     },
     "execution_count": 10,
     "metadata": {},
     "output_type": "execute_result"
    }
   ],
   "source": [
    "EN_S_DATA_total = rates['En S Data']['day'] * day_total + rates['En S Data']['peak'] * peak_total + rates['En S Data']['night'] * night2_total + rates['En S Data']['ev'] * ev2_total\n",
    "\n",
    "EN_S_DATA_total"
   ]
  },
  {
   "cell_type": "code",
   "execution_count": 11,
   "metadata": {},
   "outputs": [
    {
     "data": {
      "text/plain": [
       "202.1060826"
      ]
     },
     "execution_count": 11,
     "metadata": {},
     "output_type": "execute_result"
    }
   ],
   "source": [
    "EN_S_Drive_total = rates['En S Drive']['day'] * day_total + rates['En S Drive']['peak'] * peak_total + rates['En S Drive']['night'] * night2_total + rates['En S Drive']['ev'] * ev2_total\n",
    "\n",
    "EN_S_Drive_total"
   ]
  },
  {
   "cell_type": "code",
   "execution_count": 12,
   "metadata": {},
   "outputs": [
    {
     "data": {
      "text/plain": [
       "174.69503304999998"
      ]
     },
     "execution_count": 12,
     "metadata": {},
     "output_type": "execute_result"
    }
   ],
   "source": [
    "BG_S_EV_DFD_total = rates['BG S EV DFD']['day'] * day_total + rates['BG S EV DFD']['peak'] * peak_total + rates['BG S EV DFD']['night'] * night2_total + rates['BG S EV DFD']['ev'] * ev2_total\n",
    "\n",
    "BG_S_EV_DFD_total"
   ]
  },
  {
   "cell_type": "code",
   "execution_count": 13,
   "metadata": {},
   "outputs": [
    {
     "data": {
      "text/plain": [
       "184.65089469999998"
      ]
     },
     "execution_count": 13,
     "metadata": {},
     "output_type": "execute_result"
    }
   ],
   "source": [
    "EN_S_DATA_DF_total = rates['En S Data DF']['day'] * day_total + rates['En S Data DF']['peak'] * peak_total + rates['En S Data DF']['night'] * night2_total + rates['En S Data DF']['ev'] * ev2_total\n",
    "\n",
    "EN_S_DATA_DF_total"
   ]
  },
  {
   "cell_type": "code",
   "execution_count": 14,
   "metadata": {},
   "outputs": [
    {
     "data": {
      "text/plain": [
       "228.38656665"
      ]
     },
     "execution_count": 14,
     "metadata": {},
     "output_type": "execute_result"
    }
   ],
   "source": [
    "FG_DF_S_total = rates['FG DF S']['day'] * day_total + rates['FG DF S']['peak'] * peak_total + rates['FG DF S']['night'] * night2_total + rates['FG DF S']['ev'] * ev2_total\n",
    "\n",
    "FG_DF_S_total"
   ]
  },
  {
   "cell_type": "code",
   "execution_count": 15,
   "metadata": {},
   "outputs": [
    {
     "data": {
      "text/plain": [
       "218.1673616"
      ]
     },
     "execution_count": 15,
     "metadata": {},
     "output_type": "execute_result"
    }
   ],
   "source": [
    "olr2024 = rates['2024']['day'] * day_total + rates['2024']['peak'] * peak_total + rates['2024']['night'] * night2_total + rates['2024']['ev'] * ev2_total\n",
    "\n",
    "olr2024"
   ]
  },
  {
   "cell_type": "code",
   "execution_count": 16,
   "metadata": {},
   "outputs": [
    {
     "data": {
      "text/html": [
       "<div>\n",
       "<style scoped>\n",
       "    .dataframe tbody tr th:only-of-type {\n",
       "        vertical-align: middle;\n",
       "    }\n",
       "\n",
       "    .dataframe tbody tr th {\n",
       "        vertical-align: top;\n",
       "    }\n",
       "\n",
       "    .dataframe thead th {\n",
       "        text-align: right;\n",
       "    }\n",
       "</style>\n",
       "<table border=\"1\" class=\"dataframe\">\n",
       "  <thead>\n",
       "    <tr style=\"text-align: right;\">\n",
       "      <th></th>\n",
       "      <th>Cost</th>\n",
       "    </tr>\n",
       "  </thead>\n",
       "  <tbody>\n",
       "    <tr>\n",
       "      <th>SSE EV</th>\n",
       "      <td>188.58</td>\n",
       "    </tr>\n",
       "    <tr>\n",
       "      <th>SSE 24</th>\n",
       "      <td>264.23</td>\n",
       "    </tr>\n",
       "    <tr>\n",
       "      <th>En S Data</th>\n",
       "      <td>174.23</td>\n",
       "    </tr>\n",
       "    <tr>\n",
       "      <th>En S Drive</th>\n",
       "      <td>202.11</td>\n",
       "    </tr>\n",
       "    <tr>\n",
       "      <th>BG S EV DFD</th>\n",
       "      <td>174.70</td>\n",
       "    </tr>\n",
       "    <tr>\n",
       "      <th>En S Data DF</th>\n",
       "      <td>184.65</td>\n",
       "    </tr>\n",
       "    <tr>\n",
       "      <th>FG DF S</th>\n",
       "      <td>228.39</td>\n",
       "    </tr>\n",
       "  </tbody>\n",
       "</table>\n",
       "</div>"
      ],
      "text/plain": [
       "                Cost\n",
       "SSE EV        188.58\n",
       "SSE 24        264.23\n",
       "En S Data     174.23\n",
       "En S Drive    202.11\n",
       "BG S EV DFD   174.70\n",
       "En S Data DF  184.65\n",
       "FG DF S       228.39"
      ]
     },
     "execution_count": 16,
     "metadata": {},
     "output_type": "execute_result"
    }
   ],
   "source": [
    "d = {'SSE EV':[f\"{SSE_EV_total:.2f}\"],\n",
    "     'SSE 24':[f\"{SSE_24_total:.2f}\"],\n",
    "     'En S Data':[f\"{EN_S_DATA_total:.2f}\"],\n",
    "     'En S Drive':[f\"{EN_S_Drive_total:.2f}\"],\n",
    "     'BG S EV DFD':[f\"{BG_S_EV_DFD_total:.2f}\"],\n",
    "     'En S Data DF':[f\"{EN_S_DATA_DF_total:.2f}\"],\n",
    "     'FG DF S':[f\"{FG_DF_S_total:.2f}\"]   \n",
    "}\n",
    "\n",
    "df = pd.DataFrame(data=d).T.rename(columns={0:'Cost'})\n",
    "\n",
    "df"
   ]
  }
 ],
 "metadata": {
  "kernelspec": {
   "display_name": "base",
   "language": "python",
   "name": "python3"
  },
  "language_info": {
   "codemirror_mode": {
    "name": "ipython",
    "version": 3
   },
   "file_extension": ".py",
   "mimetype": "text/x-python",
   "name": "python",
   "nbconvert_exporter": "python",
   "pygments_lexer": "ipython3",
   "version": "3.11.11"
  }
 },
 "nbformat": 4,
 "nbformat_minor": 2
}
