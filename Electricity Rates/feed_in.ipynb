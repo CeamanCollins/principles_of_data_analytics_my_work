{
 "cells": [
  {
   "cell_type": "code",
   "execution_count": 2,
   "metadata": {},
   "outputs": [],
   "source": [
    "import pandas as pd\n",
    "import numpy as np \n",
    "import matplotlib.pyplot as plt\n",
    "import matplotlib.dates as mdates"
   ]
  },
  {
   "cell_type": "code",
   "execution_count": 3,
   "metadata": {},
   "outputs": [],
   "source": [
    "data_1mc = pd.read_csv('HDF_calckWh_10000826638_26-02-2025.csv')\n",
    "data_olr = pd.read_csv('HDF_calckWh_10000847339_26-02-2025.csv')"
   ]
  },
  {
   "cell_type": "code",
   "execution_count": 4,
   "metadata": {},
   "outputs": [],
   "source": [
    "data_1mc['Date'] = pd.to_datetime(data_olr['Read Date and End Time'], dayfirst=True)\n",
    "data_1mc.groupby(['Read Type',pd.Grouper(key='Date', freq='1D')]).sum().reset_index()\n",
    "grouped_data_1mc = data_1mc.groupby(['Read Type',pd.Grouper(key='Date', freq='1D')]).sum().reset_index()\n",
    "export_data_1mc = grouped_data_1mc[grouped_data_1mc['Read Type'] == 'Active Export Interval (kWh)']\n"
   ]
  },
  {
   "cell_type": "code",
   "execution_count": 5,
   "metadata": {},
   "outputs": [],
   "source": [
    "pd.options.mode.copy_on_write = True\n",
    "data_1mc['Date'] = pd.to_datetime(data_1mc['Read Date and End Time'], dayfirst=True)\n",
    "grouped_data_1mc = data_1mc.groupby(['Read Type',pd.Grouper(key='Date', freq='1D')]).sum().reset_index()\n",
    "export_data_1mc = grouped_data_1mc[grouped_data_1mc['Read Type'] == 'Active Export Interval (kWh)']\n",
    "\n",
    "export_data_1mc['Date'] = mdates.num2date(mdates.date2num(export_data_1mc['Date']))"
   ]
  },
  {
   "cell_type": "code",
   "execution_count": 6,
   "metadata": {},
   "outputs": [
    {
     "data": {
      "text/plain": [
       "0      10-01-2024 23:3010-01-2024 23:0010-01-2024 22:...\n",
       "1      11-01-2024 23:3011-01-2024 23:0011-01-2024 22:...\n",
       "2      12-01-2024 23:3012-01-2024 23:0012-01-2024 22:...\n",
       "3      13-01-2024 23:3013-01-2024 23:0013-01-2024 22:...\n",
       "4      14-01-2024 23:3014-01-2024 23:0014-01-2024 22:...\n",
       "                             ...                        \n",
       "401    21-02-2025 23:3021-02-2025 23:0021-02-2025 22:...\n",
       "402    22-02-2025 23:3022-02-2025 23:0022-02-2025 22:...\n",
       "403    23-02-2025 23:3023-02-2025 23:0023-02-2025 22:...\n",
       "404    24-02-2025 23:3024-02-2025 23:0024-02-2025 22:...\n",
       "405                                     25-02-2025 00:00\n",
       "Name: Read Date and End Time, Length: 406, dtype: object"
      ]
     },
     "execution_count": 6,
     "metadata": {},
     "output_type": "execute_result"
    }
   ],
   "source": [
    "export_data_1mc.loc[:,'Read Date and End Time']"
   ]
  },
  {
   "cell_type": "code",
   "execution_count": 7,
   "metadata": {},
   "outputs": [
    {
     "data": {
      "text/html": [
       "<div>\n",
       "<style scoped>\n",
       "    .dataframe tbody tr th:only-of-type {\n",
       "        vertical-align: middle;\n",
       "    }\n",
       "\n",
       "    .dataframe tbody tr th {\n",
       "        vertical-align: top;\n",
       "    }\n",
       "\n",
       "    .dataframe thead th {\n",
       "        text-align: right;\n",
       "    }\n",
       "</style>\n",
       "<table border=\"1\" class=\"dataframe\">\n",
       "  <thead>\n",
       "    <tr style=\"text-align: right;\">\n",
       "      <th></th>\n",
       "      <th>Read Type</th>\n",
       "      <th>Date</th>\n",
       "      <th>MPRN</th>\n",
       "      <th>Meter Serial Number</th>\n",
       "      <th>Read Value</th>\n",
       "      <th>Read Date and End Time</th>\n",
       "    </tr>\n",
       "  </thead>\n",
       "  <tbody>\n",
       "    <tr>\n",
       "      <th>0</th>\n",
       "      <td>Active Export Interval (kWh)</td>\n",
       "      <td>2024-01-10</td>\n",
       "      <td>460038977594</td>\n",
       "      <td>1571066244</td>\n",
       "      <td>0.0000</td>\n",
       "      <td>10-01-2024 23:3010-01-2024 23:0010-01-2024 22:...</td>\n",
       "    </tr>\n",
       "    <tr>\n",
       "      <th>1</th>\n",
       "      <td>Active Export Interval (kWh)</td>\n",
       "      <td>2024-01-11</td>\n",
       "      <td>480040672272</td>\n",
       "      <td>1639373472</td>\n",
       "      <td>0.0000</td>\n",
       "      <td>11-01-2024 23:3011-01-2024 23:0011-01-2024 22:...</td>\n",
       "    </tr>\n",
       "    <tr>\n",
       "      <th>2</th>\n",
       "      <td>Active Export Interval (kWh)</td>\n",
       "      <td>2024-01-12</td>\n",
       "      <td>480040672272</td>\n",
       "      <td>1639373472</td>\n",
       "      <td>0.0000</td>\n",
       "      <td>12-01-2024 23:3012-01-2024 23:0012-01-2024 22:...</td>\n",
       "    </tr>\n",
       "    <tr>\n",
       "      <th>3</th>\n",
       "      <td>Active Export Interval (kWh)</td>\n",
       "      <td>2024-01-13</td>\n",
       "      <td>480040672272</td>\n",
       "      <td>1639373472</td>\n",
       "      <td>0.0000</td>\n",
       "      <td>13-01-2024 23:3013-01-2024 23:0013-01-2024 22:...</td>\n",
       "    </tr>\n",
       "    <tr>\n",
       "      <th>4</th>\n",
       "      <td>Active Export Interval (kWh)</td>\n",
       "      <td>2024-01-14</td>\n",
       "      <td>480040672272</td>\n",
       "      <td>1639373472</td>\n",
       "      <td>0.0000</td>\n",
       "      <td>14-01-2024 23:3014-01-2024 23:0014-01-2024 22:...</td>\n",
       "    </tr>\n",
       "    <tr>\n",
       "      <th>...</th>\n",
       "      <td>...</td>\n",
       "      <td>...</td>\n",
       "      <td>...</td>\n",
       "      <td>...</td>\n",
       "      <td>...</td>\n",
       "      <td>...</td>\n",
       "    </tr>\n",
       "    <tr>\n",
       "      <th>408</th>\n",
       "      <td>Active Export Interval (kWh)</td>\n",
       "      <td>2025-02-21</td>\n",
       "      <td>480040672272</td>\n",
       "      <td>1639373472</td>\n",
       "      <td>2.2090</td>\n",
       "      <td>21-02-2025 23:3021-02-2025 23:0021-02-2025 22:...</td>\n",
       "    </tr>\n",
       "    <tr>\n",
       "      <th>409</th>\n",
       "      <td>Active Export Interval (kWh)</td>\n",
       "      <td>2025-02-22</td>\n",
       "      <td>480040672272</td>\n",
       "      <td>1639373472</td>\n",
       "      <td>6.6830</td>\n",
       "      <td>22-02-2025 23:3022-02-2025 23:0022-02-2025 22:...</td>\n",
       "    </tr>\n",
       "    <tr>\n",
       "      <th>410</th>\n",
       "      <td>Active Export Interval (kWh)</td>\n",
       "      <td>2025-02-23</td>\n",
       "      <td>480040672272</td>\n",
       "      <td>1639373472</td>\n",
       "      <td>0.7870</td>\n",
       "      <td>23-02-2025 23:3023-02-2025 23:0023-02-2025 22:...</td>\n",
       "    </tr>\n",
       "    <tr>\n",
       "      <th>411</th>\n",
       "      <td>Active Export Interval (kWh)</td>\n",
       "      <td>2025-02-24</td>\n",
       "      <td>480040672272</td>\n",
       "      <td>1639373472</td>\n",
       "      <td>6.5050</td>\n",
       "      <td>24-02-2025 23:3024-02-2025 23:0024-02-2025 22:...</td>\n",
       "    </tr>\n",
       "    <tr>\n",
       "      <th>412</th>\n",
       "      <td>Active Export Interval (kWh)</td>\n",
       "      <td>2025-02-25</td>\n",
       "      <td>10000847339</td>\n",
       "      <td>34153614</td>\n",
       "      <td>0.0045</td>\n",
       "      <td>25-02-2025 00:00</td>\n",
       "    </tr>\n",
       "  </tbody>\n",
       "</table>\n",
       "<p>413 rows × 6 columns</p>\n",
       "</div>"
      ],
      "text/plain": [
       "                        Read Type       Date          MPRN  \\\n",
       "0    Active Export Interval (kWh) 2024-01-10  460038977594   \n",
       "1    Active Export Interval (kWh) 2024-01-11  480040672272   \n",
       "2    Active Export Interval (kWh) 2024-01-12  480040672272   \n",
       "3    Active Export Interval (kWh) 2024-01-13  480040672272   \n",
       "4    Active Export Interval (kWh) 2024-01-14  480040672272   \n",
       "..                            ...        ...           ...   \n",
       "408  Active Export Interval (kWh) 2025-02-21  480040672272   \n",
       "409  Active Export Interval (kWh) 2025-02-22  480040672272   \n",
       "410  Active Export Interval (kWh) 2025-02-23  480040672272   \n",
       "411  Active Export Interval (kWh) 2025-02-24  480040672272   \n",
       "412  Active Export Interval (kWh) 2025-02-25   10000847339   \n",
       "\n",
       "     Meter Serial Number  Read Value  \\\n",
       "0             1571066244      0.0000   \n",
       "1             1639373472      0.0000   \n",
       "2             1639373472      0.0000   \n",
       "3             1639373472      0.0000   \n",
       "4             1639373472      0.0000   \n",
       "..                   ...         ...   \n",
       "408           1639373472      2.2090   \n",
       "409           1639373472      6.6830   \n",
       "410           1639373472      0.7870   \n",
       "411           1639373472      6.5050   \n",
       "412             34153614      0.0045   \n",
       "\n",
       "                                Read Date and End Time  \n",
       "0    10-01-2024 23:3010-01-2024 23:0010-01-2024 22:...  \n",
       "1    11-01-2024 23:3011-01-2024 23:0011-01-2024 22:...  \n",
       "2    12-01-2024 23:3012-01-2024 23:0012-01-2024 22:...  \n",
       "3    13-01-2024 23:3013-01-2024 23:0013-01-2024 22:...  \n",
       "4    14-01-2024 23:3014-01-2024 23:0014-01-2024 22:...  \n",
       "..                                                 ...  \n",
       "408  21-02-2025 23:3021-02-2025 23:0021-02-2025 22:...  \n",
       "409  22-02-2025 23:3022-02-2025 23:0022-02-2025 22:...  \n",
       "410  23-02-2025 23:3023-02-2025 23:0023-02-2025 22:...  \n",
       "411  24-02-2025 23:3024-02-2025 23:0024-02-2025 22:...  \n",
       "412                                   25-02-2025 00:00  \n",
       "\n",
       "[413 rows x 6 columns]"
      ]
     },
     "execution_count": 7,
     "metadata": {},
     "output_type": "execute_result"
    }
   ],
   "source": [
    "data_olr['Date'] = pd.to_datetime(data_olr['Read Date and End Time'], dayfirst=True)\n",
    "grouped_data_olr = data_olr.groupby(['Read Type',pd.Grouper(key='Date', freq='1D')]).sum().reset_index()\n",
    "active_export_olr = grouped_data_olr[grouped_data_olr['Read Type'] == 'Active Export Interval (kWh)']\n",
    "\n",
    "active_export_olr"
   ]
  },
  {
   "cell_type": "code",
   "execution_count": null,
   "metadata": {},
   "outputs": [
    {
     "data": {
      "text/plain": [
       "281.8613784"
      ]
     },
     "execution_count": 25,
     "metadata": {},
     "output_type": "execute_result"
    }
   ],
   "source": [
    "data_olr['Date'] = pd.to_datetime(data_olr['Read Date and End Time'], dayfirst=True)\n",
    "grouped_data_olr = data_olr.groupby(pd.Grouper(key='Date', freq='1D')).sum()['Read Value'].reset_index()\n",
    "\n"
   ]
  },
  {
   "cell_type": "code",
   "execution_count": null,
   "metadata": {},
   "outputs": [],
   "source": [
    "\n",
    "olr_tarif_1 = grouped_data_olr[(grouped_data_olr['Date']<='2025-01-12') & (grouped_data_olr['Date']>'2024-01-24')]['Read Value'].sum()\n",
    "olr_tarif_2 = grouped_data_olr[(grouped_data_olr['Date']>'2025-01-12') & (grouped_data_olr['Date']<'2025-01-24')]['Read Value'].sum()\n",
    "\n",
    "total = olr_tarif_1 * 0.24 + olr_tarif_2 * 0.2\n",
    "\n",
    "total - 218.1673616"
   ]
  }
 ],
 "metadata": {
  "kernelspec": {
   "display_name": "base",
   "language": "python",
   "name": "python3"
  },
  "language_info": {
   "codemirror_mode": {
    "name": "ipython",
    "version": 3
   },
   "file_extension": ".py",
   "mimetype": "text/x-python",
   "name": "python",
   "nbconvert_exporter": "python",
   "pygments_lexer": "ipython3",
   "version": "3.11.11"
  }
 },
 "nbformat": 4,
 "nbformat_minor": 2
}
