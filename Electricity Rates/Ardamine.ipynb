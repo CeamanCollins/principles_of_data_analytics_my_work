{
 "cells": [
  {
   "cell_type": "code",
   "execution_count": 18,
   "metadata": {},
   "outputs": [],
   "source": [
    "import pandas as pd\n",
    "import numpy as np\n",
    "import dataframe_image as dfi"
   ]
  },
  {
   "cell_type": "code",
   "execution_count": 2,
   "metadata": {},
   "outputs": [
    {
     "data": {
      "text/html": [
       "<div>\n",
       "<style scoped>\n",
       "    .dataframe tbody tr th:only-of-type {\n",
       "        vertical-align: middle;\n",
       "    }\n",
       "\n",
       "    .dataframe tbody tr th {\n",
       "        vertical-align: top;\n",
       "    }\n",
       "\n",
       "    .dataframe thead th {\n",
       "        text-align: right;\n",
       "    }\n",
       "</style>\n",
       "<table border=\"1\" class=\"dataframe\">\n",
       "  <thead>\n",
       "    <tr style=\"text-align: right;\">\n",
       "      <th></th>\n",
       "      <th>00:00</th>\n",
       "      <th>00:30</th>\n",
       "      <th>01:00</th>\n",
       "      <th>01:30</th>\n",
       "      <th>02:00</th>\n",
       "      <th>02:30</th>\n",
       "      <th>03:00</th>\n",
       "      <th>03:30</th>\n",
       "      <th>04:00</th>\n",
       "      <th>04:30</th>\n",
       "      <th>...</th>\n",
       "      <th>19:00</th>\n",
       "      <th>19:30</th>\n",
       "      <th>20:00</th>\n",
       "      <th>20:30</th>\n",
       "      <th>21:00</th>\n",
       "      <th>21:30</th>\n",
       "      <th>22:00</th>\n",
       "      <th>22:30</th>\n",
       "      <th>23:00</th>\n",
       "      <th>23:30</th>\n",
       "    </tr>\n",
       "    <tr>\n",
       "      <th>Date</th>\n",
       "      <th></th>\n",
       "      <th></th>\n",
       "      <th></th>\n",
       "      <th></th>\n",
       "      <th></th>\n",
       "      <th></th>\n",
       "      <th></th>\n",
       "      <th></th>\n",
       "      <th></th>\n",
       "      <th></th>\n",
       "      <th></th>\n",
       "      <th></th>\n",
       "      <th></th>\n",
       "      <th></th>\n",
       "      <th></th>\n",
       "      <th></th>\n",
       "      <th></th>\n",
       "      <th></th>\n",
       "      <th></th>\n",
       "      <th></th>\n",
       "      <th></th>\n",
       "    </tr>\n",
       "  </thead>\n",
       "  <tbody>\n",
       "    <tr>\n",
       "      <th>2024-01-01</th>\n",
       "      <td>1.077</td>\n",
       "      <td>1.077</td>\n",
       "      <td>0.778</td>\n",
       "      <td>0.206</td>\n",
       "      <td>0.011</td>\n",
       "      <td>0.010</td>\n",
       "      <td>0.022</td>\n",
       "      <td>0.024</td>\n",
       "      <td>0.010</td>\n",
       "      <td>0.010</td>\n",
       "      <td>...</td>\n",
       "      <td>0.037</td>\n",
       "      <td>0.010</td>\n",
       "      <td>0.010</td>\n",
       "      <td>0.011</td>\n",
       "      <td>0.020</td>\n",
       "      <td>0.026</td>\n",
       "      <td>0.010</td>\n",
       "      <td>0.010</td>\n",
       "      <td>0.359</td>\n",
       "      <td>0.964</td>\n",
       "    </tr>\n",
       "    <tr>\n",
       "      <th>2024-01-02</th>\n",
       "      <td>1.066</td>\n",
       "      <td>1.070</td>\n",
       "      <td>0.760</td>\n",
       "      <td>0.217</td>\n",
       "      <td>0.010</td>\n",
       "      <td>0.011</td>\n",
       "      <td>0.010</td>\n",
       "      <td>0.035</td>\n",
       "      <td>0.010</td>\n",
       "      <td>0.010</td>\n",
       "      <td>...</td>\n",
       "      <td>0.014</td>\n",
       "      <td>0.010</td>\n",
       "      <td>0.010</td>\n",
       "      <td>0.034</td>\n",
       "      <td>0.011</td>\n",
       "      <td>0.011</td>\n",
       "      <td>0.010</td>\n",
       "      <td>0.027</td>\n",
       "      <td>0.369</td>\n",
       "      <td>0.927</td>\n",
       "    </tr>\n",
       "    <tr>\n",
       "      <th>2024-01-03</th>\n",
       "      <td>1.058</td>\n",
       "      <td>1.082</td>\n",
       "      <td>0.778</td>\n",
       "      <td>0.195</td>\n",
       "      <td>0.010</td>\n",
       "      <td>0.030</td>\n",
       "      <td>0.016</td>\n",
       "      <td>0.010</td>\n",
       "      <td>0.010</td>\n",
       "      <td>0.027</td>\n",
       "      <td>...</td>\n",
       "      <td>0.012</td>\n",
       "      <td>0.010</td>\n",
       "      <td>0.010</td>\n",
       "      <td>0.031</td>\n",
       "      <td>0.015</td>\n",
       "      <td>0.010</td>\n",
       "      <td>0.010</td>\n",
       "      <td>0.011</td>\n",
       "      <td>0.387</td>\n",
       "      <td>0.932</td>\n",
       "    </tr>\n",
       "    <tr>\n",
       "      <th>2024-01-04</th>\n",
       "      <td>1.056</td>\n",
       "      <td>1.060</td>\n",
       "      <td>0.782</td>\n",
       "      <td>0.190</td>\n",
       "      <td>0.011</td>\n",
       "      <td>0.010</td>\n",
       "      <td>0.035</td>\n",
       "      <td>0.011</td>\n",
       "      <td>0.010</td>\n",
       "      <td>0.010</td>\n",
       "      <td>...</td>\n",
       "      <td>0.015</td>\n",
       "      <td>0.010</td>\n",
       "      <td>0.010</td>\n",
       "      <td>0.010</td>\n",
       "      <td>0.027</td>\n",
       "      <td>0.022</td>\n",
       "      <td>0.010</td>\n",
       "      <td>0.010</td>\n",
       "      <td>0.370</td>\n",
       "      <td>0.945</td>\n",
       "    </tr>\n",
       "    <tr>\n",
       "      <th>2024-01-05</th>\n",
       "      <td>1.094</td>\n",
       "      <td>1.068</td>\n",
       "      <td>0.758</td>\n",
       "      <td>0.189</td>\n",
       "      <td>0.014</td>\n",
       "      <td>0.034</td>\n",
       "      <td>0.011</td>\n",
       "      <td>0.010</td>\n",
       "      <td>0.010</td>\n",
       "      <td>0.010</td>\n",
       "      <td>...</td>\n",
       "      <td>0.009</td>\n",
       "      <td>0.033</td>\n",
       "      <td>0.015</td>\n",
       "      <td>0.010</td>\n",
       "      <td>0.010</td>\n",
       "      <td>0.010</td>\n",
       "      <td>0.023</td>\n",
       "      <td>0.027</td>\n",
       "      <td>0.370</td>\n",
       "      <td>0.946</td>\n",
       "    </tr>\n",
       "    <tr>\n",
       "      <th>...</th>\n",
       "      <td>...</td>\n",
       "      <td>...</td>\n",
       "      <td>...</td>\n",
       "      <td>...</td>\n",
       "      <td>...</td>\n",
       "      <td>...</td>\n",
       "      <td>...</td>\n",
       "      <td>...</td>\n",
       "      <td>...</td>\n",
       "      <td>...</td>\n",
       "      <td>...</td>\n",
       "      <td>...</td>\n",
       "      <td>...</td>\n",
       "      <td>...</td>\n",
       "      <td>...</td>\n",
       "      <td>...</td>\n",
       "      <td>...</td>\n",
       "      <td>...</td>\n",
       "      <td>...</td>\n",
       "      <td>...</td>\n",
       "      <td>...</td>\n",
       "    </tr>\n",
       "    <tr>\n",
       "      <th>2024-12-27</th>\n",
       "      <td>1.445</td>\n",
       "      <td>1.255</td>\n",
       "      <td>0.954</td>\n",
       "      <td>0.087</td>\n",
       "      <td>0.008</td>\n",
       "      <td>0.007</td>\n",
       "      <td>0.007</td>\n",
       "      <td>0.008</td>\n",
       "      <td>0.007</td>\n",
       "      <td>0.007</td>\n",
       "      <td>...</td>\n",
       "      <td>0.008</td>\n",
       "      <td>0.007</td>\n",
       "      <td>0.007</td>\n",
       "      <td>0.007</td>\n",
       "      <td>0.008</td>\n",
       "      <td>0.007</td>\n",
       "      <td>0.007</td>\n",
       "      <td>0.007</td>\n",
       "      <td>0.276</td>\n",
       "      <td>1.158</td>\n",
       "    </tr>\n",
       "    <tr>\n",
       "      <th>2024-12-28</th>\n",
       "      <td>1.560</td>\n",
       "      <td>1.114</td>\n",
       "      <td>0.885</td>\n",
       "      <td>0.208</td>\n",
       "      <td>0.007</td>\n",
       "      <td>0.007</td>\n",
       "      <td>0.008</td>\n",
       "      <td>0.007</td>\n",
       "      <td>0.007</td>\n",
       "      <td>0.007</td>\n",
       "      <td>...</td>\n",
       "      <td>0.008</td>\n",
       "      <td>0.007</td>\n",
       "      <td>0.007</td>\n",
       "      <td>0.008</td>\n",
       "      <td>0.007</td>\n",
       "      <td>0.007</td>\n",
       "      <td>0.008</td>\n",
       "      <td>0.007</td>\n",
       "      <td>0.281</td>\n",
       "      <td>1.190</td>\n",
       "    </tr>\n",
       "    <tr>\n",
       "      <th>2024-12-29</th>\n",
       "      <td>1.597</td>\n",
       "      <td>1.291</td>\n",
       "      <td>1.111</td>\n",
       "      <td>0.199</td>\n",
       "      <td>0.007</td>\n",
       "      <td>0.007</td>\n",
       "      <td>0.008</td>\n",
       "      <td>0.007</td>\n",
       "      <td>0.008</td>\n",
       "      <td>0.007</td>\n",
       "      <td>...</td>\n",
       "      <td>0.007</td>\n",
       "      <td>0.008</td>\n",
       "      <td>0.007</td>\n",
       "      <td>0.007</td>\n",
       "      <td>0.008</td>\n",
       "      <td>0.007</td>\n",
       "      <td>0.008</td>\n",
       "      <td>0.007</td>\n",
       "      <td>0.278</td>\n",
       "      <td>1.177</td>\n",
       "    </tr>\n",
       "    <tr>\n",
       "      <th>2024-12-30</th>\n",
       "      <td>1.590</td>\n",
       "      <td>1.143</td>\n",
       "      <td>0.923</td>\n",
       "      <td>0.579</td>\n",
       "      <td>0.007</td>\n",
       "      <td>0.008</td>\n",
       "      <td>0.007</td>\n",
       "      <td>0.008</td>\n",
       "      <td>0.007</td>\n",
       "      <td>0.007</td>\n",
       "      <td>...</td>\n",
       "      <td>0.008</td>\n",
       "      <td>0.007</td>\n",
       "      <td>0.008</td>\n",
       "      <td>0.007</td>\n",
       "      <td>0.007</td>\n",
       "      <td>0.008</td>\n",
       "      <td>0.007</td>\n",
       "      <td>0.007</td>\n",
       "      <td>0.268</td>\n",
       "      <td>1.152</td>\n",
       "    </tr>\n",
       "    <tr>\n",
       "      <th>2024-12-31</th>\n",
       "      <td>1.107</td>\n",
       "      <td>1.081</td>\n",
       "      <td>0.852</td>\n",
       "      <td>0.362</td>\n",
       "      <td>0.008</td>\n",
       "      <td>0.007</td>\n",
       "      <td>0.007</td>\n",
       "      <td>0.008</td>\n",
       "      <td>0.007</td>\n",
       "      <td>0.007</td>\n",
       "      <td>...</td>\n",
       "      <td>0.008</td>\n",
       "      <td>0.007</td>\n",
       "      <td>0.008</td>\n",
       "      <td>0.007</td>\n",
       "      <td>0.008</td>\n",
       "      <td>0.007</td>\n",
       "      <td>0.008</td>\n",
       "      <td>0.007</td>\n",
       "      <td>0.271</td>\n",
       "      <td>1.173</td>\n",
       "    </tr>\n",
       "  </tbody>\n",
       "</table>\n",
       "<p>366 rows × 48 columns</p>\n",
       "</div>"
      ],
      "text/plain": [
       "            00:00  00:30  01:00  01:30  02:00  02:30  03:00  03:30  04:00  \\\n",
       "Date                                                                        \n",
       "2024-01-01  1.077  1.077  0.778  0.206  0.011  0.010  0.022  0.024  0.010   \n",
       "2024-01-02  1.066  1.070  0.760  0.217  0.010  0.011  0.010  0.035  0.010   \n",
       "2024-01-03  1.058  1.082  0.778  0.195  0.010  0.030  0.016  0.010  0.010   \n",
       "2024-01-04  1.056  1.060  0.782  0.190  0.011  0.010  0.035  0.011  0.010   \n",
       "2024-01-05  1.094  1.068  0.758  0.189  0.014  0.034  0.011  0.010  0.010   \n",
       "...           ...    ...    ...    ...    ...    ...    ...    ...    ...   \n",
       "2024-12-27  1.445  1.255  0.954  0.087  0.008  0.007  0.007  0.008  0.007   \n",
       "2024-12-28  1.560  1.114  0.885  0.208  0.007  0.007  0.008  0.007  0.007   \n",
       "2024-12-29  1.597  1.291  1.111  0.199  0.007  0.007  0.008  0.007  0.008   \n",
       "2024-12-30  1.590  1.143  0.923  0.579  0.007  0.008  0.007  0.008  0.007   \n",
       "2024-12-31  1.107  1.081  0.852  0.362  0.008  0.007  0.007  0.008  0.007   \n",
       "\n",
       "            04:30  ...  19:00  19:30  20:00  20:30  21:00  21:30  22:00  \\\n",
       "Date               ...                                                    \n",
       "2024-01-01  0.010  ...  0.037  0.010  0.010  0.011  0.020  0.026  0.010   \n",
       "2024-01-02  0.010  ...  0.014  0.010  0.010  0.034  0.011  0.011  0.010   \n",
       "2024-01-03  0.027  ...  0.012  0.010  0.010  0.031  0.015  0.010  0.010   \n",
       "2024-01-04  0.010  ...  0.015  0.010  0.010  0.010  0.027  0.022  0.010   \n",
       "2024-01-05  0.010  ...  0.009  0.033  0.015  0.010  0.010  0.010  0.023   \n",
       "...           ...  ...    ...    ...    ...    ...    ...    ...    ...   \n",
       "2024-12-27  0.007  ...  0.008  0.007  0.007  0.007  0.008  0.007  0.007   \n",
       "2024-12-28  0.007  ...  0.008  0.007  0.007  0.008  0.007  0.007  0.008   \n",
       "2024-12-29  0.007  ...  0.007  0.008  0.007  0.007  0.008  0.007  0.008   \n",
       "2024-12-30  0.007  ...  0.008  0.007  0.008  0.007  0.007  0.008  0.007   \n",
       "2024-12-31  0.007  ...  0.008  0.007  0.008  0.007  0.008  0.007  0.008   \n",
       "\n",
       "            22:30  23:00  23:30  \n",
       "Date                             \n",
       "2024-01-01  0.010  0.359  0.964  \n",
       "2024-01-02  0.027  0.369  0.927  \n",
       "2024-01-03  0.011  0.387  0.932  \n",
       "2024-01-04  0.010  0.370  0.945  \n",
       "2024-01-05  0.027  0.370  0.946  \n",
       "...           ...    ...    ...  \n",
       "2024-12-27  0.007  0.276  1.158  \n",
       "2024-12-28  0.007  0.281  1.190  \n",
       "2024-12-29  0.007  0.278  1.177  \n",
       "2024-12-30  0.007  0.268  1.152  \n",
       "2024-12-31  0.007  0.271  1.173  \n",
       "\n",
       "[366 rows x 48 columns]"
      ]
     },
     "execution_count": 2,
     "metadata": {},
     "output_type": "execute_result"
    }
   ],
   "source": [
    "data = pd.read_csv('Ardamine 2024.csv', header=1, index_col=0)\n",
    "data"
   ]
  },
  {
   "cell_type": "markdown",
   "metadata": {},
   "source": [
    "8am to 11pm is day rate\n",
    "\n",
    "5pm to 7pm is peak rate\n",
    "\n",
    "11pm to 8am is night rate\n",
    "\n",
    "2am to 5am is ev rate\n",
    "\n",
    "*2am to 6am for some rates"
   ]
  },
  {
   "cell_type": "code",
   "execution_count": 3,
   "metadata": {},
   "outputs": [],
   "source": [
    "# group data by rates\n",
    "day = data.iloc[:,16:34].join(data.iloc[:,38:46])\n",
    "peak = data.iloc[:,34:38]\n",
    "night = data.iloc[:,0:4].join(data.iloc[:,10:16]).join(data.iloc[:,46:49])\n",
    "ev = data.iloc[:,4:10]\n",
    "\n",
    "# account for second grouping\n",
    "night2 = data.iloc[:,0:4].join(data.iloc[:,12:16]).join(data.iloc[:,46:49])\n",
    "ev2 = data.iloc[:,4:12]"
   ]
  },
  {
   "cell_type": "code",
   "execution_count": 4,
   "metadata": {},
   "outputs": [],
   "source": [
    "# total values per bracket\n",
    "day_total = day.sum().sum()\n",
    "peak_total = peak.sum().sum()\n",
    "night_total = night.sum().sum()\n",
    "ev_total = ev.sum().sum()\n",
    "\n",
    "night2_total = night2.sum().sum()\n",
    "ev2_total = ev2.sum().sum()\n"
   ]
  },
  {
   "cell_type": "code",
   "execution_count": 5,
   "metadata": {},
   "outputs": [
    {
     "name": "stdout",
     "output_type": "stream",
     "text": [
      "572.1949999999999\n",
      "89.02199999999999\n",
      "1418.306\n",
      "86.565\n"
     ]
    }
   ],
   "source": [
    "print(day_total)\n",
    "print(peak_total)\n",
    "print(night_total)\n",
    "print(ev_total)"
   ]
  },
  {
   "cell_type": "code",
   "execution_count": 6,
   "metadata": {},
   "outputs": [],
   "source": [
    "# rates per band\n",
    "\n",
    "rates = {\n",
    "    \"SSE EV\": {\n",
    "        \"day\": 0.3335,\n",
    "        \"peak\": 0.4483,\n",
    "        \"night\": 0.1889,\n",
    "        \"ev\": 0.0729\n",
    "    },\n",
    "    \"SSE 24\": {\n",
    "        \"day\": 0.2665,\n",
    "        \"peak\": 0.2665,\n",
    "        \"night\": 0.2665,\n",
    "        \"ev\": 0.2665\n",
    "    },\n",
    "    \"En S EV\": {\n",
    "        \"day\": 0.3461,\n",
    "        \"peak\": 0.3784,\n",
    "        \"night\": 0.1854,\n",
    "        \"ev\": 0.0831\n",
    "    },\n",
    "    \"En S Data\": {\n",
    "        \"day\": 0.2521,\n",
    "        \"peak\": 0.2642,\n",
    "        \"night\": 0.1349,\n",
    "        \"ev\": 0.1349\n",
    "    },\n",
    "    \"En S Drive\": {\n",
    "        \"day\": 0.3386,\n",
    "        \"peak\": 0.3386,\n",
    "        \"night\": 0.3386,\n",
    "        \"ev\": 0.0754\n",
    "    },\n",
    "    \"BG S EV DFD\": {\n",
    "        \"day\": 0.2922,\n",
    "        \"peak\": 0.4075,\n",
    "        \"night\": 0.2204,\n",
    "        \"ev\": 0.0745\n",
    "    },\n",
    "    \"En S Data DF\": {\n",
    "        \"day\": 0.2671,\n",
    "        \"peak\": 0.2800,\n",
    "        \"night\": 0.1430,\n",
    "        \"ev\": 0.14300\n",
    "    },\n",
    "    \"FG DF S\": {\n",
    "        \"day\": 0.2665,\n",
    "        \"peak\": 0.3152,\n",
    "        \"night\": 0.2077,\n",
    "        \"ev\": 0.2077\n",
    "    }\n",
    "}"
   ]
  },
  {
   "cell_type": "code",
   "execution_count": 7,
   "metadata": {},
   "outputs": [
    {
     "data": {
      "text/plain": [
       "504.96418700000004"
      ]
     },
     "execution_count": 7,
     "metadata": {},
     "output_type": "execute_result"
    }
   ],
   "source": [
    "SSE_EV_total = rates['SSE EV']['day'] * day_total + rates['SSE EV']['peak'] * peak_total + rates['SSE EV']['night'] * night_total + rates['SSE EV']['ev'] * ev_total\n",
    "\n",
    "SSE_EV_total"
   ]
  },
  {
   "cell_type": "code",
   "execution_count": 8,
   "metadata": {},
   "outputs": [
    {
     "data": {
      "text/plain": [
       "577.262452"
      ]
     },
     "execution_count": 8,
     "metadata": {},
     "output_type": "execute_result"
    }
   ],
   "source": [
    "SSE_24_total = rates['SSE 24']['day'] * day_total + rates['SSE 24']['peak'] * peak_total + rates['SSE 24']['night'] * night_total + rates['SSE 24']['ev'] * ev_total\n",
    "\n",
    "SSE_24_total"
   ]
  },
  {
   "cell_type": "code",
   "execution_count": 9,
   "metadata": {},
   "outputs": [
    {
     "data": {
      "text/plain": [
       "494.9414215"
      ]
     },
     "execution_count": 9,
     "metadata": {},
     "output_type": "execute_result"
    }
   ],
   "source": [
    "EN_S_EV_total = rates['En S EV']['day'] * day_total + rates['En S EV']['peak'] * peak_total + rates['En S EV']['night'] * night2_total + rates['En S EV']['ev'] * ev2_total\n",
    "\n",
    "EN_S_EV_total"
   ]
  },
  {
   "cell_type": "code",
   "execution_count": 10,
   "metadata": {},
   "outputs": [
    {
     "data": {
      "text/plain": [
       "370.77706979999994"
      ]
     },
     "execution_count": 10,
     "metadata": {},
     "output_type": "execute_result"
    }
   ],
   "source": [
    "EN_S_DATA_total = rates['En S Data']['day'] * day_total + rates['En S Data']['peak'] * peak_total + rates['En S Data']['night'] * night2_total + rates['En S Data']['ev'] * ev2_total\n",
    "\n",
    "EN_S_DATA_total"
   ]
  },
  {
   "cell_type": "code",
   "execution_count": 11,
   "metadata": {},
   "outputs": [
    {
     "data": {
      "text/plain": [
       "692.8272159999999"
      ]
     },
     "execution_count": 11,
     "metadata": {},
     "output_type": "execute_result"
    }
   ],
   "source": [
    "EN_S_Drive_total = rates['En S Drive']['day'] * day_total + rates['En S Drive']['peak'] * peak_total + rates['En S Drive']['night'] * night2_total + rates['En S Drive']['ev'] * ev2_total\n",
    "\n",
    "EN_S_Drive_total"
   ]
  },
  {
   "cell_type": "code",
   "execution_count": 12,
   "metadata": {},
   "outputs": [
    {
     "data": {
      "text/plain": [
       "512.6339178000001"
      ]
     },
     "execution_count": 12,
     "metadata": {},
     "output_type": "execute_result"
    }
   ],
   "source": [
    "BG_S_EV_DFD_total = rates['BG S EV DFD']['day'] * day_total + rates['BG S EV DFD']['peak'] * peak_total + rates['BG S EV DFD']['night'] * night2_total + rates['BG S EV DFD']['ev'] * ev2_total\n",
    "\n",
    "BG_S_EV_DFD_total"
   ]
  },
  {
   "cell_type": "code",
   "execution_count": 13,
   "metadata": {},
   "outputs": [
    {
     "data": {
      "text/plain": [
       "392.95599749999997"
      ]
     },
     "execution_count": 13,
     "metadata": {},
     "output_type": "execute_result"
    }
   ],
   "source": [
    "EN_S_DATA_DF_total = rates['En S Data DF']['day'] * day_total + rates['En S Data DF']['peak'] * peak_total + rates['En S Data DF']['night'] * night2_total + rates['En S Data DF']['ev'] * ev2_total\n",
    "\n",
    "EN_S_DATA_DF_total"
   ]
  },
  {
   "cell_type": "code",
   "execution_count": 14,
   "metadata": {},
   "outputs": [
    {
     "data": {
      "text/plain": [
       "493.1114086"
      ]
     },
     "execution_count": 14,
     "metadata": {},
     "output_type": "execute_result"
    }
   ],
   "source": [
    "FG_DF_S_total = rates['FG DF S']['day'] * day_total + rates['FG DF S']['peak'] * peak_total + rates['FG DF S']['night'] * night2_total + rates['FG DF S']['ev'] * ev2_total\n",
    "\n",
    "FG_DF_S_total"
   ]
  },
  {
   "cell_type": "code",
   "execution_count": 15,
   "metadata": {},
   "outputs": [
    {
     "data": {
      "text/html": [
       "<div>\n",
       "<style scoped>\n",
       "    .dataframe tbody tr th:only-of-type {\n",
       "        vertical-align: middle;\n",
       "    }\n",
       "\n",
       "    .dataframe tbody tr th {\n",
       "        vertical-align: top;\n",
       "    }\n",
       "\n",
       "    .dataframe thead th {\n",
       "        text-align: right;\n",
       "    }\n",
       "</style>\n",
       "<table border=\"1\" class=\"dataframe\">\n",
       "  <thead>\n",
       "    <tr style=\"text-align: right;\">\n",
       "      <th></th>\n",
       "      <th>Cost</th>\n",
       "    </tr>\n",
       "  </thead>\n",
       "  <tbody>\n",
       "    <tr>\n",
       "      <th>SSE EV</th>\n",
       "      <td>504.96</td>\n",
       "    </tr>\n",
       "    <tr>\n",
       "      <th>SSE 24</th>\n",
       "      <td>577.26</td>\n",
       "    </tr>\n",
       "    <tr>\n",
       "      <th>En S Data</th>\n",
       "      <td>370.78</td>\n",
       "    </tr>\n",
       "    <tr>\n",
       "      <th>En S Drive</th>\n",
       "      <td>692.83</td>\n",
       "    </tr>\n",
       "    <tr>\n",
       "      <th>BG S EV DFD</th>\n",
       "      <td>512.63</td>\n",
       "    </tr>\n",
       "    <tr>\n",
       "      <th>En S Data DF</th>\n",
       "      <td>392.96</td>\n",
       "    </tr>\n",
       "    <tr>\n",
       "      <th>FG DF S</th>\n",
       "      <td>493.11</td>\n",
       "    </tr>\n",
       "  </tbody>\n",
       "</table>\n",
       "</div>"
      ],
      "text/plain": [
       "                Cost\n",
       "SSE EV        504.96\n",
       "SSE 24        577.26\n",
       "En S Data     370.78\n",
       "En S Drive    692.83\n",
       "BG S EV DFD   512.63\n",
       "En S Data DF  392.96\n",
       "FG DF S       493.11"
      ]
     },
     "execution_count": 15,
     "metadata": {},
     "output_type": "execute_result"
    }
   ],
   "source": [
    "d = {'SSE EV':[f\"{SSE_EV_total:.2f}\"],\n",
    "     'SSE 24':[f\"{SSE_24_total:.2f}\"],\n",
    "     'En S Data':[f\"{EN_S_DATA_total:.2f}\"],\n",
    "     'En S Drive':[f\"{EN_S_Drive_total:.2f}\"],\n",
    "     'BG S EV DFD':[f\"{BG_S_EV_DFD_total:.2f}\"],\n",
    "     'En S Data DF':[f\"{EN_S_DATA_DF_total:.2f}\"],\n",
    "     'FG DF S':[f\"{FG_DF_S_total:.2f}\"]   \n",
    "}\n",
    "\n",
    "df = pd.DataFrame(data=d).T.rename(columns={0:'Cost'})\n",
    "\n",
    "df"
   ]
  }
 ],
 "metadata": {
  "kernelspec": {
   "display_name": "base",
   "language": "python",
   "name": "python3"
  },
  "language_info": {
   "codemirror_mode": {
    "name": "ipython",
    "version": 3
   },
   "file_extension": ".py",
   "mimetype": "text/x-python",
   "name": "python",
   "nbconvert_exporter": "python",
   "pygments_lexer": "ipython3",
   "version": "3.11.11"
  }
 },
 "nbformat": 4,
 "nbformat_minor": 2
}
